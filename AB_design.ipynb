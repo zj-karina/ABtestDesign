{
 "cells": [
  {
   "cell_type": "code",
   "execution_count": 2,
   "id": "3c5ea1d4-8d9f-4858-824b-e3d0bfec1eaf",
   "metadata": {},
   "outputs": [
    {
     "name": "stderr",
     "output_type": "stream",
     "text": [
      "kion dataset download:  92%|█████████▏| 72.4M/78.8M [00:00<00:00, 109MiB/s] "
     ]
    }
   ],
   "source": [
    "import requests\n",
    "from tqdm import tqdm\n",
    "\n",
    "# download dataset by chunks\n",
    "url = \"https://github.com/sharthZ23/your-second-recsys/raw/master/data_kion.zip\"\n",
    "\n",
    "req = requests.get(url, stream=True)\n",
    "\n",
    "with open('data_kion.zip', \"wb\") as fd:\n",
    "    total_size_in_bytes = int(req.headers.get('Content-Length', 0))\n",
    "    progress_bar = tqdm(desc='kion dataset download', total=total_size_in_bytes, unit='iB', unit_scale=True)\n",
    "    for chunk in req.iter_content(chunk_size=2 ** 20):\n",
    "        progress_bar.update(len(chunk))\n",
    "        fd.write(chunk)"
   ]
  },
  {
   "cell_type": "code",
   "execution_count": 3,
   "id": "32571bc8-3ed0-48fe-b9df-58c051d76ea2",
   "metadata": {},
   "outputs": [
    {
     "name": "stderr",
     "output_type": "stream",
     "text": [
      "kion dataset download: 100%|██████████| 78.8M/78.8M [00:19<00:00, 109MiB/s]"
     ]
    }
   ],
   "source": [
    "# Распаковываем архив из 3 файлов\n",
    "import zipfile\n",
    " \n",
    "with zipfile.ZipFile('data_kion.zip', 'r') as zip_ref:\n",
    "    zip_ref.extractall()"
   ]
  },
  {
   "cell_type": "code",
   "execution_count": 5,
   "id": "18393437-d6a1-4761-9964-9a6d6ac67bfd",
   "metadata": {},
   "outputs": [
    {
     "data": {
      "text/html": [
       "<div>\n",
       "<style scoped>\n",
       "    .dataframe tbody tr th:only-of-type {\n",
       "        vertical-align: middle;\n",
       "    }\n",
       "\n",
       "    .dataframe tbody tr th {\n",
       "        vertical-align: top;\n",
       "    }\n",
       "\n",
       "    .dataframe thead th {\n",
       "        text-align: right;\n",
       "    }\n",
       "</style>\n",
       "<table border=\"1\" class=\"dataframe\">\n",
       "  <thead>\n",
       "    <tr style=\"text-align: right;\">\n",
       "      <th></th>\n",
       "      <th>user_id</th>\n",
       "      <th>item_id</th>\n",
       "      <th>last_watch_dt</th>\n",
       "      <th>total_dur</th>\n",
       "      <th>watched_pct</th>\n",
       "    </tr>\n",
       "  </thead>\n",
       "  <tbody>\n",
       "    <tr>\n",
       "      <th>0</th>\n",
       "      <td>176549</td>\n",
       "      <td>9506</td>\n",
       "      <td>2021-05-11</td>\n",
       "      <td>4250</td>\n",
       "      <td>72.0</td>\n",
       "    </tr>\n",
       "    <tr>\n",
       "      <th>1</th>\n",
       "      <td>699317</td>\n",
       "      <td>1659</td>\n",
       "      <td>2021-05-29</td>\n",
       "      <td>8317</td>\n",
       "      <td>100.0</td>\n",
       "    </tr>\n",
       "    <tr>\n",
       "      <th>2</th>\n",
       "      <td>656683</td>\n",
       "      <td>7107</td>\n",
       "      <td>2021-05-09</td>\n",
       "      <td>10</td>\n",
       "      <td>0.0</td>\n",
       "    </tr>\n",
       "    <tr>\n",
       "      <th>3</th>\n",
       "      <td>864613</td>\n",
       "      <td>7638</td>\n",
       "      <td>2021-07-05</td>\n",
       "      <td>14483</td>\n",
       "      <td>100.0</td>\n",
       "    </tr>\n",
       "    <tr>\n",
       "      <th>4</th>\n",
       "      <td>964868</td>\n",
       "      <td>9506</td>\n",
       "      <td>2021-04-30</td>\n",
       "      <td>6725</td>\n",
       "      <td>100.0</td>\n",
       "    </tr>\n",
       "    <tr>\n",
       "      <th>5476246</th>\n",
       "      <td>648596</td>\n",
       "      <td>12225</td>\n",
       "      <td>2021-08-13</td>\n",
       "      <td>76</td>\n",
       "      <td>0.0</td>\n",
       "    </tr>\n",
       "    <tr>\n",
       "      <th>5476247</th>\n",
       "      <td>546862</td>\n",
       "      <td>9673</td>\n",
       "      <td>2021-04-13</td>\n",
       "      <td>2308</td>\n",
       "      <td>49.0</td>\n",
       "    </tr>\n",
       "    <tr>\n",
       "      <th>5476248</th>\n",
       "      <td>697262</td>\n",
       "      <td>15297</td>\n",
       "      <td>2021-08-20</td>\n",
       "      <td>18307</td>\n",
       "      <td>63.0</td>\n",
       "    </tr>\n",
       "    <tr>\n",
       "      <th>5476249</th>\n",
       "      <td>384202</td>\n",
       "      <td>16197</td>\n",
       "      <td>2021-04-19</td>\n",
       "      <td>6203</td>\n",
       "      <td>100.0</td>\n",
       "    </tr>\n",
       "    <tr>\n",
       "      <th>5476250</th>\n",
       "      <td>319709</td>\n",
       "      <td>4436</td>\n",
       "      <td>2021-08-15</td>\n",
       "      <td>3921</td>\n",
       "      <td>45.0</td>\n",
       "    </tr>\n",
       "  </tbody>\n",
       "</table>\n",
       "</div>"
      ],
      "text/plain": [
       "         user_id  item_id last_watch_dt  total_dur  watched_pct\n",
       "0         176549     9506    2021-05-11       4250         72.0\n",
       "1         699317     1659    2021-05-29       8317        100.0\n",
       "2         656683     7107    2021-05-09         10          0.0\n",
       "3         864613     7638    2021-07-05      14483        100.0\n",
       "4         964868     9506    2021-04-30       6725        100.0\n",
       "5476246   648596    12225    2021-08-13         76          0.0\n",
       "5476247   546862     9673    2021-04-13       2308         49.0\n",
       "5476248   697262    15297    2021-08-20      18307         63.0\n",
       "5476249   384202    16197    2021-04-19       6203        100.0\n",
       "5476250   319709     4436    2021-08-15       3921         45.0"
      ]
     },
     "execution_count": 5,
     "metadata": {},
     "output_type": "execute_result"
    }
   ],
   "source": [
    "import pandas as pd\n",
    "interactions = pd.read_csv('data_kion/interactions_df.csv')\n",
    "users = pd.read_csv('data_kion/users.csv')\n",
    "items = pd.read_csv('data_kion/items.csv')\n",
    "interactions.head(5).append(interactions.tail())"
   ]
  },
  {
   "cell_type": "markdown",
   "id": "37eef269-044e-4ae8-bbbb-27b8dac57ac6",
   "metadata": {},
   "source": [
    "## После того, как скачали данные делаем 1 пункт. Выделяем данные за последние 2 недели"
   ]
  },
  {
   "cell_type": "code",
   "execution_count": 11,
   "id": "d59201cb-9717-4759-942e-06020bce4722",
   "metadata": {},
   "outputs": [],
   "source": [
    "interactions['last_watch_dt'] = pd.to_datetime(interactions['last_watch_dt'])\n",
    "interactions_two_weeks = interactions[(interactions['last_watch_dt'] >= '2021-08-09') & (interactions['last_watch_dt'] <= '2021-08-22')]"
   ]
  },
  {
   "cell_type": "code",
   "execution_count": 12,
   "id": "2e53aa08-fbfd-4419-8144-ad1da3760405",
   "metadata": {},
   "outputs": [
    {
     "data": {
      "text/html": [
       "<div>\n",
       "<style scoped>\n",
       "    .dataframe tbody tr th:only-of-type {\n",
       "        vertical-align: middle;\n",
       "    }\n",
       "\n",
       "    .dataframe tbody tr th {\n",
       "        vertical-align: top;\n",
       "    }\n",
       "\n",
       "    .dataframe thead th {\n",
       "        text-align: right;\n",
       "    }\n",
       "</style>\n",
       "<table border=\"1\" class=\"dataframe\">\n",
       "  <thead>\n",
       "    <tr style=\"text-align: right;\">\n",
       "      <th></th>\n",
       "      <th>user_id</th>\n",
       "      <th>item_id</th>\n",
       "      <th>last_watch_dt</th>\n",
       "      <th>total_dur</th>\n",
       "      <th>watched_pct</th>\n",
       "    </tr>\n",
       "  </thead>\n",
       "  <tbody>\n",
       "    <tr>\n",
       "      <th>6</th>\n",
       "      <td>1016458</td>\n",
       "      <td>354</td>\n",
       "      <td>2021-08-14</td>\n",
       "      <td>1672</td>\n",
       "      <td>25.0</td>\n",
       "    </tr>\n",
       "    <tr>\n",
       "      <th>9</th>\n",
       "      <td>203219</td>\n",
       "      <td>13582</td>\n",
       "      <td>2021-08-22</td>\n",
       "      <td>6975</td>\n",
       "      <td>100.0</td>\n",
       "    </tr>\n",
       "    <tr>\n",
       "      <th>22</th>\n",
       "      <td>505244</td>\n",
       "      <td>15297</td>\n",
       "      <td>2021-08-15</td>\n",
       "      <td>15991</td>\n",
       "      <td>63.0</td>\n",
       "    </tr>\n",
       "    <tr>\n",
       "      <th>24</th>\n",
       "      <td>916352</td>\n",
       "      <td>12846</td>\n",
       "      <td>2021-08-12</td>\n",
       "      <td>1812</td>\n",
       "      <td>30.0</td>\n",
       "    </tr>\n",
       "    <tr>\n",
       "      <th>30</th>\n",
       "      <td>1057871</td>\n",
       "      <td>6208</td>\n",
       "      <td>2021-08-12</td>\n",
       "      <td>5033</td>\n",
       "      <td>95.0</td>\n",
       "    </tr>\n",
       "    <tr>\n",
       "      <th>...</th>\n",
       "      <td>...</td>\n",
       "      <td>...</td>\n",
       "      <td>...</td>\n",
       "      <td>...</td>\n",
       "      <td>...</td>\n",
       "    </tr>\n",
       "    <tr>\n",
       "      <th>5476215</th>\n",
       "      <td>204332</td>\n",
       "      <td>2081</td>\n",
       "      <td>2021-08-10</td>\n",
       "      <td>822</td>\n",
       "      <td>14.0</td>\n",
       "    </tr>\n",
       "    <tr>\n",
       "      <th>5476222</th>\n",
       "      <td>1007900</td>\n",
       "      <td>9728</td>\n",
       "      <td>2021-08-12</td>\n",
       "      <td>416</td>\n",
       "      <td>6.0</td>\n",
       "    </tr>\n",
       "    <tr>\n",
       "      <th>5476246</th>\n",
       "      <td>648596</td>\n",
       "      <td>12225</td>\n",
       "      <td>2021-08-13</td>\n",
       "      <td>76</td>\n",
       "      <td>0.0</td>\n",
       "    </tr>\n",
       "    <tr>\n",
       "      <th>5476248</th>\n",
       "      <td>697262</td>\n",
       "      <td>15297</td>\n",
       "      <td>2021-08-20</td>\n",
       "      <td>18307</td>\n",
       "      <td>63.0</td>\n",
       "    </tr>\n",
       "    <tr>\n",
       "      <th>5476250</th>\n",
       "      <td>319709</td>\n",
       "      <td>4436</td>\n",
       "      <td>2021-08-15</td>\n",
       "      <td>3921</td>\n",
       "      <td>45.0</td>\n",
       "    </tr>\n",
       "  </tbody>\n",
       "</table>\n",
       "<p>827089 rows × 5 columns</p>\n",
       "</div>"
      ],
      "text/plain": [
       "         user_id  item_id last_watch_dt  total_dur  watched_pct\n",
       "6        1016458      354    2021-08-14       1672         25.0\n",
       "9         203219    13582    2021-08-22       6975        100.0\n",
       "22        505244    15297    2021-08-15      15991         63.0\n",
       "24        916352    12846    2021-08-12       1812         30.0\n",
       "30       1057871     6208    2021-08-12       5033         95.0\n",
       "...          ...      ...           ...        ...          ...\n",
       "5476215   204332     2081    2021-08-10        822         14.0\n",
       "5476222  1007900     9728    2021-08-12        416          6.0\n",
       "5476246   648596    12225    2021-08-13         76          0.0\n",
       "5476248   697262    15297    2021-08-20      18307         63.0\n",
       "5476250   319709     4436    2021-08-15       3921         45.0\n",
       "\n",
       "[827089 rows x 5 columns]"
      ]
     },
     "execution_count": 12,
     "metadata": {},
     "output_type": "execute_result"
    }
   ],
   "source": [
    "interactions_two_weeks"
   ]
  },
  {
   "cell_type": "markdown",
   "id": "557da04d-6f49-479e-8ddf-a14fba782093",
   "metadata": {},
   "source": [
    "## выполняем пункт 2 и считаем корректность данных на бутстрапе\n",
    "\n",
    "Мы выполняем бутстрап-тест на данных за последние две недели. Здесь мы используем метод бутстрапа для оценки статистической значимости различия между двумя группами. \n",
    "\n",
    "1. Мы начинаем с разделения наших данных на две группы (A и B) с помощью функции groups_splitter, которая использует случайную соль для гарантии того, что разделение будет стабильным при повторной выборке. \n",
    "\n",
    "2. Далее, для каждой группы мы повторяем следующие шаги 1000 раз (в контексте бутстрапа эти повторения часто называют \"ресемплингами\" или \"бутстрап-выборками\"):\n",
    "   - Создаем выборку с возвращением из данных группы (с помощью функции get_bootstrap_array).\n",
    "   - Считаем среднее значение этой выборки (с помощью функции calc_bootstrap_mean).\n",
    "\n",
    "3. После того, как мы собрали все бутстрап-выборки, мы вычисляем разницу между средними значениями каждой пары выборок (A и B). Это дает нам распределение разницы между средними.\n",
    "\n",
    "4. Затем мы строим 95% доверительный интервал для этого распределения. Если ноль (то есть отсутствие различий между группами) не попадает в этот интервал, мы считаем, что различие между группами статистически значимо.\n",
    "\n",
    "5. Наконец, мы считаем долю случаев, когда ноль попал в доверительный интервал (т.е. когда различие между группами не было статистически значимо). Это и есть наша \"корректность\" бутстрапа. Если бутстрап-тест работает корректно, то корректность должна быть около 95% (соответствует уровню значимости 0.05).\n",
    "\n",
    "6. Дополнительно мы строим гистограмму распределения p-значений и проводим тест Колмогорова-Смирнова для проверки равномерности этого распределения. Если p-значение теста больше 0.05, мы можем считать, что распределение p-значений равномерно.\n",
    "\n",
    "Выводы: результаты бутстрап-теста позволяют нам оценить статистическую значимость различий между двумя группами. Если корректность близка к 95%, это говорит о том, что бутстрап-тест работает корректно. Если в доверительный интервал не попадает ноль, это указывает на статистически значимое различие между группами. Распределение p-значений также важно для оценки качества теста: равномерное распределение p-значений говорит о том, что тест не имеет систематических ошибок."
   ]
  },
  {
   "cell_type": "code",
   "execution_count": 26,
   "id": "8e988506-364d-49c5-bf37-89c09d160399",
   "metadata": {},
   "outputs": [],
   "source": [
    "# Делим на 2 равные группы из семинара\n",
    "import hashlib\n",
    "import numpy as np\n",
    "from base64 import b64encode\n",
    "import collections\n",
    "from tqdm.notebook import tqdm\n",
    "\n",
    "def groups_splitter(df, columns, user_salt=None):\n",
    "    \n",
    "    if user_salt == None:\n",
    "        salt = salt_generator()\n",
    "    else:\n",
    "        salt = user_salt\n",
    "    \n",
    "    df['hash'] = ((df['user_id'].astype(str)) + '#' + salt).apply(lambda x: hashlib.sha256(x.encode('utf-8')).hexdigest())\n",
    "\n",
    "    df['group'] = ((df['hash'].str.slice(start=-6).apply(int, base=16) % 2).map(lambda x: 'A' if x == 0 else 'B'))\n",
    "\n",
    "    return df[columns].drop_duplicates()"
   ]
  },
  {
   "cell_type": "code",
   "execution_count": 17,
   "id": "d558f323-8f2a-41a6-b6e0-a9bb0c65fcf1",
   "metadata": {},
   "outputs": [],
   "source": [
    "def salt_generator(salt=None):\n",
    "    import os\n",
    "    from base64 import b64encode\n",
    "    salt = os.urandom(8)\n",
    "    \n",
    "    return b64encode(salt).decode('ascii')\n",
    "\n",
    "\n",
    "def get_bootstrap_array(arr):\n",
    "    return np.random.choice(arr, replace=True, size=len(arr))\n",
    "\n",
    "\n",
    "def calc_bootstrap_mean(arr, size=1000):\n",
    "    result = np.empty(size)\n",
    "    for i in range(size):\n",
    "        result[i] = np.mean(get_bootstrap_array(arr))\n",
    "    return result"
   ]
  },
  {
   "cell_type": "code",
   "execution_count": 18,
   "id": "ef46f115-b325-4181-af93-4760c2ff10cf",
   "metadata": {},
   "outputs": [],
   "source": [
    "def get_p_value(dist):\n",
    "    dist = np.array(dist)\n",
    "    x = (dist > 0).mean()\n",
    "    pvalue = min(x, 1 - x) * 2\n",
    "    return pvalue"
   ]
  },
  {
   "cell_type": "code",
   "execution_count": 29,
   "id": "f6758ffd-162b-466c-8b5a-497be87a0473",
   "metadata": {},
   "outputs": [
    {
     "data": {
      "application/vnd.jupyter.widget-view+json": {
       "model_id": "697e0cd50c7340c7a5e964f84dd2ff58",
       "version_major": 2,
       "version_minor": 0
      },
      "text/plain": [
       "  0%|          | 0/1000 [00:00<?, ?it/s]"
      ]
     },
     "metadata": {},
     "output_type": "display_data"
    },
    {
     "name": "stdout",
     "output_type": "stream",
     "text": [
      "significance: 8.0%\n"
     ]
    },
    {
     "ename": "NameError",
     "evalue": "name 'plt' is not defined",
     "output_type": "error",
     "traceback": [
      "\u001b[0;31m---------------------------------------------------------------------------\u001b[0m",
      "\u001b[0;31mNameError\u001b[0m                                 Traceback (most recent call last)",
      "Cell \u001b[0;32mIn[29], line 28\u001b[0m\n\u001b[1;32m     25\u001b[0m test_correctness \u001b[38;5;241m=\u001b[39m collections\u001b[38;5;241m.\u001b[39mCounter(correctness)\n\u001b[1;32m     26\u001b[0m \u001b[38;5;28mprint\u001b[39m(\u001b[38;5;124mf\u001b[39m\u001b[38;5;124m'\u001b[39m\u001b[38;5;124msignificance: \u001b[39m\u001b[38;5;132;01m{\u001b[39;00mtest_correctness[\u001b[38;5;28;01mTrue\u001b[39;00m]\u001b[38;5;241m/\u001b[39m(test_correctness[\u001b[38;5;28;01mTrue\u001b[39;00m]\u001b[38;5;250m \u001b[39m\u001b[38;5;241m+\u001b[39m\u001b[38;5;250m \u001b[39mtest_correctness[\u001b[38;5;28;01mFalse\u001b[39;00m])\u001b[38;5;241m*\u001b[39m\u001b[38;5;241m100\u001b[39m\u001b[38;5;132;01m}\u001b[39;00m\u001b[38;5;124m%\u001b[39m\u001b[38;5;124m'\u001b[39m)\n\u001b[0;32m---> 28\u001b[0m \u001b[43mplt\u001b[49m\u001b[38;5;241m.\u001b[39mhist(p_values, bins\u001b[38;5;241m=\u001b[39m\u001b[38;5;241m10\u001b[39m, color\u001b[38;5;241m=\u001b[39m\u001b[38;5;124m'\u001b[39m\u001b[38;5;124mpurple\u001b[39m\u001b[38;5;124m'\u001b[39m);\n\u001b[1;32m     29\u001b[0m plt\u001b[38;5;241m.\u001b[39mtitle(\u001b[38;5;124mf\u001b[39m\u001b[38;5;124m\"\u001b[39m\u001b[38;5;124mBootstrap distribution of p_values\u001b[39m\u001b[38;5;124m\"\u001b[39m)\n\u001b[1;32m     30\u001b[0m stat, p_value \u001b[38;5;241m=\u001b[39m scipy\u001b[38;5;241m.\u001b[39mstats\u001b[38;5;241m.\u001b[39mkstest(p_values, scipy\u001b[38;5;241m.\u001b[39mstats\u001b[38;5;241m.\u001b[39muniform(loc\u001b[38;5;241m=\u001b[39m\u001b[38;5;241m0.0\u001b[39m, scale\u001b[38;5;241m=\u001b[39m\u001b[38;5;241m1.0\u001b[39m)\u001b[38;5;241m.\u001b[39mcdf)\n",
      "\u001b[0;31mNameError\u001b[0m: name 'plt' is not defined"
     ]
    }
   ],
   "source": [
    "from joblib import Parallel, delayed\n",
    "\n",
    "def compute_bootstrap(i):\n",
    "    new_df = groups_splitter(interactions_two_weeks.copy(), columns=['user_id', 'total_dur', 'group'], user_salt=salt_generator()).drop_duplicates()\n",
    "    vec_a = new_df[(new_df['group'] == 'A')]['total_dur']\n",
    "    vec_b = new_df[(new_df['group'] == 'B')]['total_dur']\n",
    "\n",
    "    sample_a_mean = calc_bootstrap_mean(vec_a, size=1000)\n",
    "    sample_b_mean = calc_bootstrap_mean(vec_b, size=1000)\n",
    "\n",
    "    left_side, right_side = np.percentile(sample_a_mean - sample_b_mean, \n",
    "                                                  [100 * 0.05 / 2., 100 * (1 - 0.05 / 2.)])\n",
    "\n",
    "    correctness = not left_side <= 0 <= right_side\n",
    "    p_value = get_p_value(sample_a_mean - sample_b_mean)\n",
    "    \n",
    "    return correctness, p_value\n",
    "\n",
    "# replace your for loop with this\n",
    "results = Parallel(n_jobs=-1)(delayed(compute_bootstrap)(i) for i in tqdm(range(1000)))\n",
    "\n",
    "correctness = [result[0] for result in results]\n",
    "p_values = [result[1] for result in results]\n",
    "\n",
    "test_correctness = collections.Counter(correctness)\n",
    "print(f'significance: {test_correctness[True]/(test_correctness[True] + test_correctness[False])*100}%')\n",
    "\n",
    "plt.hist(p_values, bins=10, color='purple');\n",
    "plt.title(f\"Bootstrap distribution of p_values\")\n",
    "stat, p_value = scipy.stats.kstest(p_values, scipy.stats.uniform(loc=0.0, scale=1.0).cdf)\n",
    "\n",
    "if p_value < 0.05:\n",
    "    print(f'p_value = {p_value} - p_values distribution is not uniform')\n",
    "else:\n",
    "    print(f'p_value = {p_value} - p_values distribution is uniform')"
   ]
  },
  {
   "cell_type": "code",
   "execution_count": 31,
   "id": "11cede8c-096e-4e56-a70d-9b572f28e1a4",
   "metadata": {},
   "outputs": [
    {
     "name": "stdout",
     "output_type": "stream",
     "text": [
      "p_value = 0.00018269116070205734 - p_values distribution is not uniform\n"
     ]
    },
    {
     "data": {
      "image/png": "[encoded data removed]",
      "text/plain": [
       "<Figure size 640x480 with 1 Axes>"
      ]
     },
     "metadata": {},
     "output_type": "display_data"
    }
   ],
   "source": [
    "import scipy\n",
    "import matplotlib.pyplot as plt\n",
    "import scipy.stats as stats\n",
    "\n",
    "plt.hist(p_values, bins=10, color='purple');\n",
    "plt.title(f\"Bootstrap distribution of p_values\")\n",
    "stat, p_value = scipy.stats.kstest(p_values, scipy.stats.uniform(loc=0.0, scale=1.0).cdf)\n",
    "\n",
    "if p_value < 0.05:\n",
    "    print(f'p_value = {p_value} - p_values distribution is not uniform')\n",
    "else:\n",
    "    print(f'p_value = {p_value} - p_values distribution is uniform')"
   ]
  },
  {
   "cell_type": "code",
   "execution_count": null,
   "id": "9fc51cf7-872b-47db-8ede-4c0b989712fd",
   "metadata": {},
   "outputs": [],
   "source": [
    "# correctness = []\n",
    "# values = []\n",
    "\n",
    "# for i in tqdm(range(1000)): # в дз используем 1000 итераций \n",
    "\n",
    "#     new_df = groups_splitter(interactions_two_weeks.copy(), columns=['user_id', 'total_dur', 'group'], user_salt=salt_generator()).drop_duplicates()\n",
    "\n",
    "#     vec_a = new_df[(new_df['group'] == 'A')]['total_dur']\n",
    "#     vec_b = new_df[(new_df['group'] == 'B')]['total_dur']\n",
    "\n",
    "#     #bootstrap\n",
    "#     sample_a_mean = calc_bootstrap_mean(vec_a, size=1000) # на бутстрэпе считаем средние для вектора\n",
    "#     sample_b_mean = calc_bootstrap_mean(vec_b, size=1000)\n",
    "#     values.append(sample_a_mean - sample_b_mean)\n",
    "\n",
    "#     left_side, right_side = np.percentile(sample_a_mean - sample_b_mean, \n",
    "#                                                   [100 * 0.05 / 2., 100 * (1 - 0.05 / 2.)]) # считаем 95% доверительный интервал для разницы средних\n",
    "\n",
    "#     correctness.append(not left_side <= 0 <= right_side)\n",
    "\n",
    "#     test_correctness = collections.Counter(correctness)\n",
    "\n",
    "# print(f'significance: {test_correctness[True]/(test_correctness[True] + test_correctness[False])*100}%')\n",
    "\n",
    "# p_values = [get_p_value(dist) for dist in values]\n",
    "# plt.hist(p_values, bins=10, color='purple');\n",
    "# plt.title(f\"Bootstrap distribution of p_values\")\n",
    "# stat, p_value = scipy.stats.kstest(p_values, scipy.stats.uniform(loc=0.0, scale=1.0).cdf)\n",
    "\n",
    "# if p_value < 0.05:\n",
    "#     print(f'p_value = {p_value} - p_values distribution is not uniform')\n",
    "# else:\n",
    "#     print(f'p_value = {p_value} - p_values distribution is uniform')"
   ]
  },
  {
   "cell_type": "markdown",
   "id": "1ec99311-7bbc-4e66-bf75-369a3e07902d",
   "metadata": {},
   "source": [
    "Для сравнения этих двух результатов, важно понимать, что p-значение является вероятностью получить результат, как минимум, такой же экстремальный, как ваш наблюдаемый результат, при условии, что нулевая гипотеза верна.\n",
    "\n",
    "Вероятность (p-значение) 0.3067 на семинаре говорит о том, что наблюдаемые данные вероятно произошли случайно (если нулевая гипотеза верна), и нет достаточных доказательств для отклонения нулевой гипотезы. Это может указывать на низкую статистическую мощность эксперимента или на отсутствие реального эффекта.\n",
    "\n",
    "Вероятность (p-значение) 0.00018, которую мы сейчас получили, очень мала, что указывает на то, что наблюдаемые данные вряд ли произошли случайно (если нулевая гипотеза верна), и есть достаточные основания для отклонения нулевой гипотезы. Это может указывать на наличие реального эффекта или на хорошую статистическую мощность вашего эксперимента.\n",
    "\n",
    "Однако необходимо отметить, что p-значение зависит от размера выборки. При увеличении размера выборки малые отличия могут стать статистически значимыми."
   ]
  },
  {
   "cell_type": "markdown",
   "id": "397a1627-ac4f-4444-b68e-80ebf6168eb3",
   "metadata": {},
   "source": [
    "## Пункт 3. Мощность\n",
    "\n",
    "1. Сначала мы определяем функцию calculate_power, которая будет вычислять мощность статистического теста. Мощность - это вероятность того, что тест правильно отвергнет нулевую гипотезу, когда это необходимо (то есть, когда между группами действительно есть различия). Функция calculate_power использует формулу для расчета мощности для двух выборок.\n",
    "\n",
    "2. Затем мы применяем функцию groups_splitter к нашим данным, чтобы разделить их на две группы (A и B).\n",
    "\n",
    "3. Далее, для каждого значения эффекта (1%, 3% и 5%) мы выполняем следующие операции:\n",
    "   - Создаем копию наших данных и увеличиваем значения 'totaldur' на заданный эффект в группе B.\n",
    "   - Вычисляем бутстрап-выборки для 'totaldur' в каждой группе. Бутстрап-выборка - это выборка, взятая с возвращением из исходных данных. Процесс бутстрапа включает в себя многократное взятие выборок и вычисление среднего для каждой выборки.\n",
    "   - Вычисляем разницу между средними значениями бутстрап-выборок для групп A и B. Это дает нам распределение разницы между средними.\n",
    "   - Вычисляем p-значения для каждого значения в распределении. P-значение - это вероятность получить тестовую статистику, как минимум, такую же экстремальную, как та, которую мы наблюдаем, при условии, что нулевая гипотеза верна. В данном случае, нулевая гипотеза состоит в том, что разница между средними равна нулю (то есть, нет разницы между группами).\n",
    "   - Наконец, мы вычисляем мощность нашего теста, используя функцию calculate_power, и выводим ее. Мощность показывает, насколько вероятно, что наш тест обнаружит статистически значимое различие между группами, если такое различие действительно существует.\n",
    "\n",
    "Этот процесс повторяется для каждого значения эффекта (1%, 3% и 5%), что позволяет нам сравнить мощность теста для разных размеров эффекта.\n",
    "\n",
    "Важно отметить, что мощность зависит от размера эффекта (разницы между группами), размера выборки и уровня значимости. Больший размер эффекта и/или большая выборка увеличивают мощность, тогда как более строгий уровень значимости (например, 0.01 вместо 0.05) уменьшает мощность"
   ]
  },
  {
   "cell_type": "code",
   "execution_count": 37,
   "id": "bc9dc359-6d96-48cf-a190-ae7fa1fb4c6f",
   "metadata": {},
   "outputs": [
    {
     "data": {
      "application/vnd.jupyter.widget-view+json": {
       "model_id": "ecd9b005102d4b88a98e8d1e14bda63b",
       "version_major": 2,
       "version_minor": 0
      },
      "text/plain": [
       "  0%|          | 0/1000 [00:00<?, ?it/s]"
      ]
     },
     "metadata": {},
     "output_type": "display_data"
    },
    {
     "name": "stdout",
     "output_type": "stream",
     "text": [
      "Power for effect 1.0%: 15.0%\n",
      "p_value = 1.8516355305452817e-29 - p_values distribution is not uniform\n"
     ]
    },
    {
     "data": {
      "application/vnd.jupyter.widget-view+json": {
       "model_id": "1d7c56aaad804df59811d50dbe230605",
       "version_major": 2,
       "version_minor": 0
      },
      "text/plain": [
       "  0%|          | 0/1000 [00:00<?, ?it/s]"
      ]
     },
     "metadata": {},
     "output_type": "display_data"
    },
    {
     "name": "stdout",
     "output_type": "stream",
     "text": [
      "Power for effect 3.0%: 70.3%\n",
      "p_value = 0.0 - p_values distribution is not uniform\n"
     ]
    },
    {
     "data": {
      "application/vnd.jupyter.widget-view+json": {
       "model_id": "c565efdf659344778c2611f05730252a",
       "version_major": 2,
       "version_minor": 0
      },
      "text/plain": [
       "  0%|          | 0/1000 [00:00<?, ?it/s]"
      ]
     },
     "metadata": {},
     "output_type": "display_data"
    },
    {
     "name": "stdout",
     "output_type": "stream",
     "text": [
      "Power for effect 5.0%: 97.0%\n",
      "p_value = 0.0 - p_values distribution is not uniform\n"
     ]
    },
    {
     "data": {
      "image/png": "[encoded data removed]",
      "text/plain": [
       "<Figure size 640x480 with 1 Axes>"
      ]
     },
     "metadata": {},
     "output_type": "display_data"
    }
   ],
   "source": [
    "from joblib import Parallel, delayed\n",
    "\n",
    "def compute_bootstrap(i, effect=0):\n",
    "    new_df = groups_splitter(interactions_two_weeks.copy(), columns=['user_id', 'total_dur', 'group'], \n",
    "                             user_salt=salt_generator()).drop_duplicates()\n",
    "    vec_a = new_df[(new_df['group'] == 'A')]['total_dur']\n",
    "    vec_b = new_df[(new_df['group'] == 'B')]['total_dur']\n",
    "\n",
    "    # Добавление эффекта в группу B\n",
    "    vec_b = vec_b * (1 + effect)\n",
    "\n",
    "    sample_a_mean = calc_bootstrap_mean(vec_a, size=1000)\n",
    "    sample_b_mean = calc_bootstrap_mean(vec_b, size=1000)\n",
    "\n",
    "    left_side, right_side = np.percentile(sample_a_mean - sample_b_mean, \n",
    "                                                  [100 * 0.05 / 2., 100 * (1 - 0.05 / 2.)])\n",
    "\n",
    "    correctness = not left_side <= 0 <= right_side\n",
    "    p_value = get_p_value(sample_a_mean - sample_b_mean)\n",
    "    \n",
    "    return correctness, p_value\n",
    "\n",
    "# Вычисление мощности для каждого эффекта\n",
    "for effect in [0.01, 0.03, 0.05]:\n",
    "    results = Parallel(n_jobs=-1)(delayed(compute_bootstrap)(i, effect) for i in tqdm(range(1000)))\n",
    "\n",
    "    correctness = [result[0] for result in results]\n",
    "    p_values = [result[1] for result in results]\n",
    "\n",
    "    test_correctness = collections.Counter(correctness)\n",
    "    power = test_correctness[True]/(test_correctness[True] + test_correctness[False])\n",
    "    print(f'Power for effect {effect * 100}%: {power*100}%')\n",
    "\n",
    "    plt.hist(p_values, bins=10, color='purple');\n",
    "    plt.title(f\"Bootstrap distribution of p_values for effect {effect * 100}%\")\n",
    "    stat, p_value = scipy.stats.kstest(p_values, scipy.stats.uniform(loc=0.0, scale=1.0).cdf)\n",
    "\n",
    "    if p_value < 0.05:\n",
    "        print(f'p_value = {p_value} - p_values distribution is not uniform')\n",
    "    else:\n",
    "        print(f'p_value = {p_value} - p_values distribution is uniform')\n"
   ]
  },
  {
   "cell_type": "markdown",
   "id": "10310e4f-98e5-4e0e-8669-5b594fea4468",
   "metadata": {},
   "source": [
    "Мощность - вероятность того, что критерий найдет различие в случае, когда оно есть\n",
    "Увеличение мощности критерия ведет к уменьшению вероятности ошибки второго рода"
   ]
  },
  {
   "cell_type": "markdown",
   "id": "c310192c-4cd8-4c67-afcf-6bf47e4f4e9f",
   "metadata": {},
   "source": [
    "## 4 пункт. MDE\n",
    "MDE - это статистическая мера, которая обычно используется для определения минимального эффекта, который вы хотели бы обнаружить в вашем эксперименте. \n",
    "\n",
    "Когда мы говорим о минимальном значимом различии (Minimal Detectable Effect, MDE), мы ссылаемся на наименьшую разницу в результате, которую мы хотим быть в состоянии обнаружить в нашем A/B тесте.\n",
    "\n",
    "Увеличение MDE означает, что мы готовы обнаружить только большие изменения между группами. Это может позволить вам провести тест с меньшим количеством пользователей или за более короткий период времени, поскольку большие различия обычно легче обнаружить. Однако, вы можете пропустить более мелкие изменения, которые могут быть все еще важны.\n",
    "\n",
    "С другой стороны, уменьшение MDE означает, что мы хотим быть в состоянии обнаружить более мелкие различия между группами. Это может требовать большего количества пользователей или более длительного времени для проведения теста, поскольку мелкие различия могут быть сложнее обнаружить. Это может быть полезно, если мелкие изменения могут иметь большое влияние на ваш бизнес или продукт"
   ]
  },
  {
   "cell_type": "code",
   "execution_count": 40,
   "id": "121dd3af-3377-4188-89a5-c06daa531f2b",
   "metadata": {},
   "outputs": [],
   "source": [
    "def get_mde(metric_vec, alpha=0.05, beta=0.2):\n",
    "    \n",
    "    metric_mean, metric_std, metric_n = metric_vec.mean(), metric_vec.std(), metric_vec.count()\n",
    "    \n",
    "    z_alpha = norm.ppf(1 - (alpha / 2), loc=0, scale=1)\n",
    "    z_beta = norm.ppf(1 - beta, loc=0, scale=1)\n",
    "    \n",
    "    mde = (z_alpha + z_beta)*metric_std / np.sqrt(metric_n)\n",
    "    \n",
    "    return mde*100/metric_mean"
   ]
  },
  {
   "cell_type": "code",
   "execution_count": 43,
   "id": "5f3dbc33-1db2-4fd8-aea7-397f273fff80",
   "metadata": {},
   "outputs": [
    {
     "data": {
      "application/vnd.jupyter.widget-view+json": {
       "model_id": "8be1e62fac084e4cb5af0af9f98cfd92",
       "version_major": 2,
       "version_minor": 0
      },
      "text/plain": [
       "  0%|          | 0/1000 [00:00<?, ?it/s]"
      ]
     },
     "metadata": {},
     "output_type": "display_data"
    },
    {
     "name": "stdout",
     "output_type": "stream",
     "text": [
      "Power for effect 1.0%: 14.7%\n"
     ]
    },
    {
     "data": {
      "application/vnd.jupyter.widget-view+json": {
       "model_id": "5b97c1cea00e447f83e34401907728c3",
       "version_major": 2,
       "version_minor": 0
      },
      "text/plain": [
       "  0%|          | 0/1000 [00:00<?, ?it/s]"
      ]
     },
     "metadata": {},
     "output_type": "display_data"
    },
    {
     "name": "stdout",
     "output_type": "stream",
     "text": [
      "Power for effect 3.0%: 66.7%\n"
     ]
    },
    {
     "data": {
      "application/vnd.jupyter.widget-view+json": {
       "model_id": "3b98030916424e05821a00d887b66502",
       "version_major": 2,
       "version_minor": 0
      },
      "text/plain": [
       "  0%|          | 0/1000 [00:00<?, ?it/s]"
      ]
     },
     "metadata": {},
     "output_type": "display_data"
    },
    {
     "name": "stdout",
     "output_type": "stream",
     "text": [
      "Power for effect 5.0%: 97.0%\n",
      "MDE = 4.174%\n"
     ]
    }
   ],
   "source": [
    "def compute_bootstrap(i, effect=0):\n",
    "    new_df = groups_splitter(interactions_two_weeks.copy(), columns=['user_id', 'total_dur', 'group'], \n",
    "                             user_salt=salt_generator()).drop_duplicates()\n",
    "    vec_a = new_df[(new_df['group'] == 'A')]['total_dur']\n",
    "    vec_b = new_df[(new_df['group'] == 'B')]['total_dur']\n",
    "\n",
    "    # Добавление эффекта в группу B\n",
    "    vec_b = vec_b * (1 + effect)\n",
    "\n",
    "    sample_a_mean = calc_bootstrap_mean(vec_a, size=1000)\n",
    "    sample_b_mean = calc_bootstrap_mean(vec_b, size=1000)\n",
    "\n",
    "    left_side, right_side = np.percentile(sample_a_mean - sample_b_mean, \n",
    "                                                  [100 * 0.05 / 2., 100 * (1 - 0.05 / 2.)])\n",
    "\n",
    "    correctness = not left_side <= 0 <= right_side\n",
    "    p_value = get_p_value(sample_a_mean - sample_b_mean)\n",
    "    \n",
    "    # MDE function has been removed here because we will calculate it later\n",
    "\n",
    "    return correctness, p_value\n",
    "\n",
    "# Store the power and effect sizes for each effect\n",
    "powers = []\n",
    "effects = [0.01, 0.03, 0.05]\n",
    "\n",
    "for effect in effects:\n",
    "    results = Parallel(n_jobs=-1)(delayed(compute_bootstrap)(i, effect) for i in tqdm(range(1000)))\n",
    "\n",
    "    correctness = [result[0] for result in results]\n",
    "    test_correctness = collections.Counter(correctness)\n",
    "    power = test_correctness[True]/(test_correctness[True] + test_correctness[False])\n",
    "    powers.append(power)\n",
    "    \n",
    "    print(f'Power for effect {effect * 100}%: {power*100}%')\n",
    "\n",
    "# Calculate the MDE\n",
    "k = (powers[2] - powers[0]) / (effects[2] - effects[0])\n",
    "b = powers[2] - effects[2] * k\n",
    "desired_power = 0.8\n",
    "mde = (desired_power - b) / k\n",
    "\n",
    "print(f'MDE = {mde:.3%}')"
   ]
  },
  {
   "cell_type": "markdown",
   "id": "60a17f58-b207-4e99-92cd-61dfec29bd5f",
   "metadata": {},
   "source": [
    "# Вторая часть\n",
    "1) Представим что у нас прошел тест, используем те же самые данные за 2 недели\n",
    "\n",
    "2) Занулите для всех пользователей total_dur, у которых total_dur < 500. Их НЕ УБИРАЕМ, а просто обрабатываем эти значения, принимая за нулевые, но пользователей также учитываем в эксперименте (0.5 балла)\n",
    "\n",
    "3) Разбейте их самостоятельно на две равные группы, используйте функцию groups_splitter и соль = 'kiontestmodel20210805' (0.5 балла)\n",
    "\n",
    "4) Оказалось, что модель в группе В показала себя лучше, чем в группе А на 2.5%, причем эффект распространился неравномерно и преимущественно на 10% самых смотрящих пользователей, докиньте такой эффект самостоятельно. Нужно метрику total_dur увеличить на 2.5% для 10% пользователей с самым продолжительным смотрением. (1 балл)\n",
    "\n",
    "5) Посчитайте результат такого теста и сделайте выводы (2 балла)"
   ]
  },
  {
   "cell_type": "code",
   "execution_count": 44,
   "id": "dc46399d-c449-482e-a381-3abe97396405",
   "metadata": {},
   "outputs": [
    {
     "name": "stderr",
     "output_type": "stream",
     "text": [
      "/tmp/ipykernel_103837/1078317344.py:1: SettingWithCopyWarning: \n",
      "A value is trying to be set on a copy of a slice from a DataFrame.\n",
      "Try using .loc[row_indexer,col_indexer] = value instead\n",
      "\n",
      "See the caveats in the documentation: https://pandas.pydata.org/pandas-docs/stable/user_guide/indexing.html#returning-a-view-versus-a-copy\n",
      "  interactions_two_weeks['total_dur'] = interactions_two_weeks['total_dur'].apply(lambda x: x if x >= 500 else 0)\n"
     ]
    }
   ],
   "source": [
    "interactions_two_weeks['total_dur'] = interactions_two_weeks['total_dur'].apply(lambda x: x if x >= 500 else 0)"
   ]
  },
  {
   "cell_type": "code",
   "execution_count": 46,
   "id": "37e2301d-45dc-4906-9f23-a19d0a2864d3",
   "metadata": {},
   "outputs": [],
   "source": [
    "def groups_splitter(df, columns, user_salt=None):\n",
    "    \n",
    "    if user_salt == None:\n",
    "        salt = salt_generator()\n",
    "    else:\n",
    "        salt = user_salt\n",
    "    \n",
    "    df['hash'] = ((df['user_id'].astype(str)) + '#' + salt).apply(lambda x: hashlib.sha256(x.encode('utf-8')).hexdigest())\n",
    "\n",
    "    df['group'] = ((df['hash'].str.slice(start=-6).apply(int, base=16) % 2).map(lambda x: 'A' if x == 0 else 'B'))\n",
    "\n",
    "    return df[columns].drop_duplicates()\n",
    "\n",
    "df = groups_splitter(interactions_two_weeks.copy(), columns=['user_id', 'total_dur', 'group'], user_salt='kiontestmodel20210805')\n"
   ]
  },
  {
   "cell_type": "markdown",
   "id": "ab2479c9-0b7a-47a5-9c08-d5029bb327f1",
   "metadata": {},
   "source": [
    "Добавляем эффект в группу B. Для этого сначала отбираем 10% пользователей с самым продолжительным просмотром, затем увеличиваем их total_dur на 2.5%."
   ]
  },
  {
   "cell_type": "code",
   "execution_count": 47,
   "id": "08c43000-578b-40e8-915f-db721babbaa2",
   "metadata": {},
   "outputs": [],
   "source": [
    "# Получаем 10% пользователей с самым продолжительным просмотром в группе B\n",
    "top_10_percent_users = df[df['group'] == 'B']['total_dur'].nlargest(int(0.1 * df[df['group'] == 'B'].shape[0]))\n",
    "\n",
    "# Увеличиваем total_dur для этих пользователей на 2.5%\n",
    "df.loc[top_10_percent_users.index, 'total_dur'] *= 1.025"
   ]
  },
  {
   "cell_type": "code",
   "execution_count": 48,
   "id": "fd877889-184f-4d0f-8f5e-3ea4cd5fa832",
   "metadata": {},
   "outputs": [
    {
     "name": "stdout",
     "output_type": "stream",
     "text": [
      "t-статистика: -0.9558936444506848\n",
      "p-значение: 0.3391262929731028\n"
     ]
    }
   ],
   "source": [
    "from scipy import stats\n",
    "\n",
    "group_A = df[df['group'] == 'A']['total_dur']\n",
    "group_B = df[df['group'] == 'B']['total_dur']\n",
    "\n",
    "t_stat, p_val = stats.ttest_ind(group_A, group_B)\n",
    "\n",
    "print(f\"t-статистика: {t_stat}\")\n",
    "print(f\"p-значение: {p_val}\")"
   ]
  },
  {
   "cell_type": "markdown",
   "id": "cb50291d-8d76-4d34-aff9-9aaaf8207829",
   "metadata": {},
   "source": [
    "Когда проводится t-тест Стьюдента, мы получаем два значения: t-статистику и p-значение.\n",
    "\n",
    "t-статистика - это значение, которое показывает, насколько сильно группы отличаются друг от друга, нормализованное по стандартной ошибке. В данном случае t-статистика равна -0.955, что указывает на то, что среднее значение группы B больше среднего значения группы A (знак минус указывает на направление разницы). Значение t-статистики по модулю меньше 1 говорит о том, что разница между группами не очень большая, хотя конкретные выводы зависят от контекста исследования.\n",
    "\n",
    "p-значение - это вероятность наблюдать такую же или более экстремальную t-статистику, если бы истинная разница между группами была равна нулю (нулевая гипотеза). В данном случае p-значение равно 0.339, что больше обычного порога значимости в 0.05. Это означает, что мы не можем отклонить нулевую гипотезу, то есть мы не можем утверждать, что есть статистически значимая разница между группами A и B.\n",
    "\n",
    "В общем, результаты этого теста говорят о том, что, согласно данным, нет статистически значимой разницы между группами A и B."
   ]
  },
  {
   "cell_type": "code",
   "execution_count": 52,
   "id": "896932a0-074c-4094-8603-5eded21a3ae8",
   "metadata": {},
   "outputs": [
    {
     "name": "stdout",
     "output_type": "stream",
     "text": [
      "Mann-Whitney U statistic: 64239110320.5\n",
      "p-value: 0.10020638370607804\n"
     ]
    }
   ],
   "source": [
    "u_stat, p_val = stats.mannwhitneyu(group_A, group_B, alternative='two-sided')\n",
    "print(f\"Mann-Whitney U statistic: {u_stat}\")\n",
    "print(f\"p-value: {p_val}\")"
   ]
  },
  {
   "cell_type": "code",
   "execution_count": 53,
   "id": "9a6bc3cf-a6b2-43f2-beb2-61ceac34156a",
   "metadata": {},
   "outputs": [
    {
     "name": "stdout",
     "output_type": "stream",
     "text": [
      "Kolmogorov-Smirnov statistic: 0.0036879548876637136\n",
      "p-value: 0.01531382895160379\n"
     ]
    }
   ],
   "source": [
    "ks_stat, p_val = stats.ks_2samp(group_A, group_B)\n",
    "print(f\"Kolmogorov-Smirnov statistic: {ks_stat}\")\n",
    "print(f\"p-value: {p_val}\")"
   ]
  },
  {
   "cell_type": "code",
   "execution_count": null,
   "id": "f6d49694-7fd8-4a2d-bc55-3a234d76bca3",
   "metadata": {},
   "outputs": [],
   "source": []
  }
 ],
 "metadata": {
  "kernelspec": {
   "display_name": "Python 3 (ipykernel)",
   "language": "python",
   "name": "python3"
  },
  "language_info": {
   "codemirror_mode": {
    "name": "ipython",
    "version": 3
   },
   "file_extension": ".py",
   "mimetype": "text/x-python",
   "name": "python",
   "nbconvert_exporter": "python",
   "pygments_lexer": "ipython3",
   "version": "3.8.10"
  }
 },
 "nbformat": 4,
 "nbformat_minor": 5
}
