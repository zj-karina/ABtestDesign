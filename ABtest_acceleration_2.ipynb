{
 "cells": [
  {
   "cell_type": "markdown",
   "metadata": {},
   "source": [
    "Романова Карина"
   ]
  },
  {
   "cell_type": "code",
   "execution_count": 12,
   "id": "7356b6ae",
   "metadata": {},
   "outputs": [],
   "source": [
    "import numpy as np\n",
    "import scipy\n",
    "import matplotlib.pyplot as plt\n",
    "import scipy.stats as stats\n",
    "import statsmodels\n",
    "import statsmodels.sandbox.stats.multicomp\n",
    "import pandas as pd\n",
    "from statsmodels.stats.weightstats import ztest\n",
    "\n",
    "import matplotlib.pyplot as plt\n",
    "import seaborn as sns\n",
    "\n",
    "from tqdm import tqdm\n",
    "from sklearn.utils import shuffle\n",
    "import hashlib\n",
    "from base64 import b64encode\n",
    "import collections\n",
    "import datetime"
   ]
  },
  {
   "cell_type": "code",
   "execution_count": 13,
   "id": "e58008f4",
   "metadata": {},
   "outputs": [],
   "source": [
    "shop_metrics_new = pd.read_csv('shop_df_metrics_dec.csv').drop(columns='Unnamed: 0')\n",
    "shop_metrics_old = pd.read_csv('shop_df_metrics_sept.csv').drop(columns='Unnamed: 0')\n",
    "shop_users_info = pd.read_csv('shop_df_users.csv').drop(columns='Unnamed: 0')"
   ]
  },
  {
   "cell_type": "code",
   "execution_count": 14,
   "id": "d9cb3c08",
   "metadata": {},
   "outputs": [],
   "source": [
    "def salt_generator(salt=None):\n",
    "    import os\n",
    "    from base64 import b64encode\n",
    "    salt = os.urandom(8)\n",
    "    return b64encode(salt).decode('ascii')\n"
   ]
  },
  {
   "cell_type": "code",
   "execution_count": 15,
   "id": "51567a0c",
   "metadata": {},
   "outputs": [],
   "source": [
    "def groups_splitter(df, user_salt=None):\n",
    "    \n",
    "    if user_salt == None:\n",
    "        salt = salt_generator()\n",
    "    else:\n",
    "        salt = user_salt\n",
    "    \n",
    "    df['hash'] = ((df['user_id'].astype(str)) + '#' + salt).apply(lambda x: hashlib.sha256(x.encode('utf-8')).hexdigest())\n",
    "\n",
    "    df['group'] = ((df['hash'].str.slice(start=-6).apply(int, base=16) % 2).map(lambda x: 'A' if x == 0 else 'B'))\n",
    "\n",
    "    return df[['user_id', 'group']].drop_duplicates()"
   ]
  },
  {
   "cell_type": "code",
   "execution_count": 5,
   "id": "c84c50d7",
   "metadata": {},
   "outputs": [],
   "source": [
    "shop_metrics_new = pd.read_csv('shop_df_metrics_dec.csv').drop(columns='Unnamed: 0')\n",
    "shop_metrics_old = pd.read_csv('shop_df_metrics_sept.csv').drop(columns='Unnamed: 0')\n",
    "shop_users_info = pd.read_csv('shop_df_users.csv').drop(columns='Unnamed: 0')"
   ]
  },
  {
   "cell_type": "markdown",
   "id": "bcc91008",
   "metadata": {},
   "source": [
    "Метрики:\n",
    "   - is_viewed - айтем товара просмотрен\n",
    "   - products_viewed_cnt - количество уникальных просмотренных айтемов\n",
    "   - price_sum - суммарная цена товаров\n",
    "   - is_cart_added - товар добавлен в корзину\n",
    "   - is_purchased - товар куплен\n",
    "   - cart_added_cnt - количество товаров, добавленных в корзину\n",
    "   - purchased_cnt - количество купленных товаров"
   ]
  },
  {
   "cell_type": "markdown",
   "id": "57dcfd5c",
   "metadata": {},
   "source": [
    "Попробуем удалить выбросы по стандартному отклонению и по 99 перцентилю:"
   ]
  },
  {
   "cell_type": "code",
   "execution_count": 22,
   "id": "8a24ca39",
   "metadata": {},
   "outputs": [
    {
     "name": "stdout",
     "output_type": "stream",
     "text": [
      " metric mean: 0.13679607767356788,          metric std: 0.6345408834915941,          metric edge: 1.1705709259834534\n"
     ]
    }
   ],
   "source": [
    "# посчитаем параметры и вычислим \"край\" метрики для подхода \"3 стандартных отклонения\"\n",
    "\n",
    "print(f\" metric mean: {shop_metrics_new['cart_added_cnt'].mean()}, \\\n",
    "         metric std: {shop_metrics_new['cart_added_cnt'].std()}, \\\n",
    "         metric edge: {(shop_metrics_new['cart_added_cnt'].mean() + 3 * shop_metrics_new['purchased_cnt'].std())}\")"
   ]
  },
  {
   "cell_type": "code",
   "execution_count": 23,
   "id": "8403210b",
   "metadata": {},
   "outputs": [
    {
     "data": {
      "text/plain": [
       "2.0"
      ]
     },
     "execution_count": 23,
     "metadata": {},
     "output_type": "execute_result"
    }
   ],
   "source": [
    "np.percentile(shop_metrics_new['cart_added_cnt'], 99)"
   ]
  },
  {
   "cell_type": "code",
   "execution_count": 24,
   "id": "184ea490",
   "metadata": {},
   "outputs": [
    {
     "data": {
      "text/plain": [
       "user_id                3900\n",
       "group                  3900\n",
       "is_viewed              3900\n",
       "products_viewed_cnt    3900\n",
       "price_sum              3900\n",
       "is_cart_added          3900\n",
       "is_purchased           3900\n",
       "cart_added_cnt         3900\n",
       "purchased_cnt          3900\n",
       "dtype: int64"
      ]
     },
     "execution_count": 24,
     "metadata": {},
     "output_type": "execute_result"
    }
   ],
   "source": [
    "shop_metrics_new[shop_metrics_new['cart_added_cnt'] > 1].count()"
   ]
  },
  {
   "cell_type": "markdown",
   "id": "eacb7b53",
   "metadata": {},
   "source": [
    "# 1. Ранговая трансформация"
   ]
  },
  {
   "cell_type": "code",
   "execution_count": 84,
   "id": "0c2a1cfa",
   "metadata": {},
   "outputs": [
    {
     "data": {
      "text/plain": [
       "(0.1350419058398685, 0.1385521582733813)"
      ]
     },
     "execution_count": 84,
     "metadata": {},
     "output_type": "execute_result"
    }
   ],
   "source": [
    "shop_metrics_new[shop_metrics_new.group == 'A'].cart_added_cnt.mean(), shop_metrics_new[shop_metrics_new.group == 'B'].cart_added_cnt.mean()"
   ]
  },
  {
   "cell_type": "code",
   "execution_count": 85,
   "id": "5af4f8d9",
   "metadata": {},
   "outputs": [
    {
     "data": {
      "text/plain": [
       "0.02599380104776681"
      ]
     },
     "execution_count": 85,
     "metadata": {},
     "output_type": "execute_result"
    }
   ],
   "source": [
    "(shop_metrics_new[shop_metrics_new.group == 'B'].cart_added_cnt.mean() - shop_metrics_new[shop_metrics_new.group == 'A'].cart_added_cnt.mean())/shop_metrics_new[shop_metrics_new.group == 'A'].cart_added_cnt.mean() "
   ]
  },
  {
   "cell_type": "code",
   "execution_count": 86,
   "id": "341a39ee",
   "metadata": {},
   "outputs": [],
   "source": [
    "def rank_transformation(df_a, df_b, metric):\n",
    "    df = pd.concat([df_a, df_b], axis = 0)\n",
    "    df['rank'] = df[metric].rank()\n",
    "    return df"
   ]
  },
  {
   "cell_type": "code",
   "execution_count": 87,
   "id": "34918277",
   "metadata": {},
   "outputs": [],
   "source": [
    "ranked = rank_transformation(shop_metrics_new[shop_metrics_new.group == 'A'], \n",
    "                             shop_metrics_new[shop_metrics_new.group == 'B'], 'cart_added_cnt')"
   ]
  },
  {
   "cell_type": "code",
   "execution_count": 88,
   "id": "a8132a8d",
   "metadata": {},
   "outputs": [
    {
     "data": {
      "text/html": [
       "<div>\n",
       "<style scoped>\n",
       "    .dataframe tbody tr th:only-of-type {\n",
       "        vertical-align: middle;\n",
       "    }\n",
       "\n",
       "    .dataframe tbody tr th {\n",
       "        vertical-align: top;\n",
       "    }\n",
       "\n",
       "    .dataframe thead th {\n",
       "        text-align: right;\n",
       "    }\n",
       "</style>\n",
       "<table border=\"1\" class=\"dataframe\">\n",
       "  <thead>\n",
       "    <tr style=\"text-align: right;\">\n",
       "      <th></th>\n",
       "      <th>user_id</th>\n",
       "      <th>group</th>\n",
       "      <th>is_viewed</th>\n",
       "      <th>products_viewed_cnt</th>\n",
       "      <th>price_sum</th>\n",
       "      <th>is_cart_added</th>\n",
       "      <th>is_purchased</th>\n",
       "      <th>cart_added_cnt</th>\n",
       "      <th>purchased_cnt</th>\n",
       "      <th>cart_added_cnt_ln</th>\n",
       "      <th>rank</th>\n",
       "    </tr>\n",
       "  </thead>\n",
       "  <tbody>\n",
       "    <tr>\n",
       "      <th>0</th>\n",
       "      <td>1515915625353230683</td>\n",
       "      <td>A</td>\n",
       "      <td>1</td>\n",
       "      <td>1</td>\n",
       "      <td>339.79</td>\n",
       "      <td>0.0</td>\n",
       "      <td>0.0</td>\n",
       "      <td>0</td>\n",
       "      <td>0</td>\n",
       "      <td>0.0</td>\n",
       "      <td>100038.5</td>\n",
       "    </tr>\n",
       "    <tr>\n",
       "      <th>1</th>\n",
       "      <td>1515915625353234047</td>\n",
       "      <td>A</td>\n",
       "      <td>1</td>\n",
       "      <td>9</td>\n",
       "      <td>861.86</td>\n",
       "      <td>0.0</td>\n",
       "      <td>0.0</td>\n",
       "      <td>0</td>\n",
       "      <td>0</td>\n",
       "      <td>0.0</td>\n",
       "      <td>100038.5</td>\n",
       "    </tr>\n",
       "    <tr>\n",
       "      <th>2</th>\n",
       "      <td>1515915625353236157</td>\n",
       "      <td>A</td>\n",
       "      <td>1</td>\n",
       "      <td>4</td>\n",
       "      <td>179.60</td>\n",
       "      <td>0.0</td>\n",
       "      <td>0.0</td>\n",
       "      <td>0</td>\n",
       "      <td>0</td>\n",
       "      <td>0.0</td>\n",
       "      <td>100038.5</td>\n",
       "    </tr>\n",
       "    <tr>\n",
       "      <th>5</th>\n",
       "      <td>1515915625353400724</td>\n",
       "      <td>A</td>\n",
       "      <td>1</td>\n",
       "      <td>2</td>\n",
       "      <td>103.33</td>\n",
       "      <td>0.0</td>\n",
       "      <td>0.0</td>\n",
       "      <td>0</td>\n",
       "      <td>0</td>\n",
       "      <td>0.0</td>\n",
       "      <td>100038.5</td>\n",
       "    </tr>\n",
       "    <tr>\n",
       "      <th>7</th>\n",
       "      <td>1515915625353416040</td>\n",
       "      <td>A</td>\n",
       "      <td>1</td>\n",
       "      <td>13</td>\n",
       "      <td>1861.21</td>\n",
       "      <td>0.0</td>\n",
       "      <td>0.0</td>\n",
       "      <td>0</td>\n",
       "      <td>0</td>\n",
       "      <td>0.0</td>\n",
       "      <td>100038.5</td>\n",
       "    </tr>\n",
       "    <tr>\n",
       "      <th>...</th>\n",
       "      <td>...</td>\n",
       "      <td>...</td>\n",
       "      <td>...</td>\n",
       "      <td>...</td>\n",
       "      <td>...</td>\n",
       "      <td>...</td>\n",
       "      <td>...</td>\n",
       "      <td>...</td>\n",
       "      <td>...</td>\n",
       "      <td>...</td>\n",
       "      <td>...</td>\n",
       "    </tr>\n",
       "    <tr>\n",
       "      <th>222516</th>\n",
       "      <td>1515915625611023671</td>\n",
       "      <td>B</td>\n",
       "      <td>1</td>\n",
       "      <td>1</td>\n",
       "      <td>32.22</td>\n",
       "      <td>0.0</td>\n",
       "      <td>0.0</td>\n",
       "      <td>0</td>\n",
       "      <td>0</td>\n",
       "      <td>0.0</td>\n",
       "      <td>100038.5</td>\n",
       "    </tr>\n",
       "    <tr>\n",
       "      <th>222517</th>\n",
       "      <td>1515915625611023730</td>\n",
       "      <td>B</td>\n",
       "      <td>1</td>\n",
       "      <td>1</td>\n",
       "      <td>219.94</td>\n",
       "      <td>0.0</td>\n",
       "      <td>0.0</td>\n",
       "      <td>0</td>\n",
       "      <td>0</td>\n",
       "      <td>0.0</td>\n",
       "      <td>100038.5</td>\n",
       "    </tr>\n",
       "    <tr>\n",
       "      <th>222518</th>\n",
       "      <td>1515915625611024014</td>\n",
       "      <td>B</td>\n",
       "      <td>1</td>\n",
       "      <td>1</td>\n",
       "      <td>80.03</td>\n",
       "      <td>0.0</td>\n",
       "      <td>0.0</td>\n",
       "      <td>0</td>\n",
       "      <td>0</td>\n",
       "      <td>0.0</td>\n",
       "      <td>100038.5</td>\n",
       "    </tr>\n",
       "    <tr>\n",
       "      <th>222519</th>\n",
       "      <td>1515915625611024020</td>\n",
       "      <td>B</td>\n",
       "      <td>1</td>\n",
       "      <td>1</td>\n",
       "      <td>64.92</td>\n",
       "      <td>0.0</td>\n",
       "      <td>0.0</td>\n",
       "      <td>0</td>\n",
       "      <td>0</td>\n",
       "      <td>0.0</td>\n",
       "      <td>100038.5</td>\n",
       "    </tr>\n",
       "    <tr>\n",
       "      <th>222520</th>\n",
       "      <td>1515915625611024030</td>\n",
       "      <td>B</td>\n",
       "      <td>1</td>\n",
       "      <td>1</td>\n",
       "      <td>10.16</td>\n",
       "      <td>0.0</td>\n",
       "      <td>0.0</td>\n",
       "      <td>0</td>\n",
       "      <td>0</td>\n",
       "      <td>0.0</td>\n",
       "      <td>100038.5</td>\n",
       "    </tr>\n",
       "  </tbody>\n",
       "</table>\n",
       "<p>222521 rows × 11 columns</p>\n",
       "</div>"
      ],
      "text/plain": [
       "                    user_id group  is_viewed  products_viewed_cnt  price_sum  \\\n",
       "0       1515915625353230683     A          1                    1     339.79   \n",
       "1       1515915625353234047     A          1                    9     861.86   \n",
       "2       1515915625353236157     A          1                    4     179.60   \n",
       "5       1515915625353400724     A          1                    2     103.33   \n",
       "7       1515915625353416040     A          1                   13    1861.21   \n",
       "...                     ...   ...        ...                  ...        ...   \n",
       "222516  1515915625611023671     B          1                    1      32.22   \n",
       "222517  1515915625611023730     B          1                    1     219.94   \n",
       "222518  1515915625611024014     B          1                    1      80.03   \n",
       "222519  1515915625611024020     B          1                    1      64.92   \n",
       "222520  1515915625611024030     B          1                    1      10.16   \n",
       "\n",
       "        is_cart_added  is_purchased  cart_added_cnt  purchased_cnt  \\\n",
       "0                 0.0           0.0               0              0   \n",
       "1                 0.0           0.0               0              0   \n",
       "2                 0.0           0.0               0              0   \n",
       "5                 0.0           0.0               0              0   \n",
       "7                 0.0           0.0               0              0   \n",
       "...               ...           ...             ...            ...   \n",
       "222516            0.0           0.0               0              0   \n",
       "222517            0.0           0.0               0              0   \n",
       "222518            0.0           0.0               0              0   \n",
       "222519            0.0           0.0               0              0   \n",
       "222520            0.0           0.0               0              0   \n",
       "\n",
       "        cart_added_cnt_ln      rank  \n",
       "0                     0.0  100038.5  \n",
       "1                     0.0  100038.5  \n",
       "2                     0.0  100038.5  \n",
       "5                     0.0  100038.5  \n",
       "7                     0.0  100038.5  \n",
       "...                   ...       ...  \n",
       "222516                0.0  100038.5  \n",
       "222517                0.0  100038.5  \n",
       "222518                0.0  100038.5  \n",
       "222519                0.0  100038.5  \n",
       "222520                0.0  100038.5  \n",
       "\n",
       "[222521 rows x 11 columns]"
      ]
     },
     "execution_count": 88,
     "metadata": {},
     "output_type": "execute_result"
    }
   ],
   "source": [
    "ranked"
   ]
  },
  {
   "cell_type": "code",
   "execution_count": 28,
   "id": "d2269bc7",
   "metadata": {},
   "outputs": [
    {
     "data": {
      "text/html": [
       "<div>\n",
       "<style scoped>\n",
       "    .dataframe tbody tr th:only-of-type {\n",
       "        vertical-align: middle;\n",
       "    }\n",
       "\n",
       "    .dataframe tbody tr th {\n",
       "        vertical-align: top;\n",
       "    }\n",
       "\n",
       "    .dataframe thead th {\n",
       "        text-align: right;\n",
       "    }\n",
       "</style>\n",
       "<table border=\"1\" class=\"dataframe\">\n",
       "  <thead>\n",
       "    <tr style=\"text-align: right;\">\n",
       "      <th></th>\n",
       "      <th>user_id</th>\n",
       "      <th>group</th>\n",
       "      <th>is_viewed</th>\n",
       "      <th>products_viewed_cnt</th>\n",
       "      <th>price_sum</th>\n",
       "      <th>is_cart_added</th>\n",
       "      <th>is_purchased</th>\n",
       "      <th>cart_added_cnt</th>\n",
       "      <th>purchased_cnt</th>\n",
       "      <th>rank</th>\n",
       "    </tr>\n",
       "  </thead>\n",
       "  <tbody>\n",
       "    <tr>\n",
       "      <th>13</th>\n",
       "      <td>1515915625353706476</td>\n",
       "      <td>A</td>\n",
       "      <td>1</td>\n",
       "      <td>12</td>\n",
       "      <td>522.75</td>\n",
       "      <td>0.0</td>\n",
       "      <td>0.0</td>\n",
       "      <td>2</td>\n",
       "      <td>0</td>\n",
       "      <td>219885.0</td>\n",
       "    </tr>\n",
       "    <tr>\n",
       "      <th>33</th>\n",
       "      <td>1515915625355805313</td>\n",
       "      <td>A</td>\n",
       "      <td>1</td>\n",
       "      <td>4</td>\n",
       "      <td>1336.40</td>\n",
       "      <td>0.0</td>\n",
       "      <td>0.0</td>\n",
       "      <td>1</td>\n",
       "      <td>0</td>\n",
       "      <td>209349.0</td>\n",
       "    </tr>\n",
       "    <tr>\n",
       "      <th>36</th>\n",
       "      <td>1515915625356129712</td>\n",
       "      <td>A</td>\n",
       "      <td>1</td>\n",
       "      <td>4</td>\n",
       "      <td>144.42</td>\n",
       "      <td>0.0</td>\n",
       "      <td>0.0</td>\n",
       "      <td>1</td>\n",
       "      <td>0</td>\n",
       "      <td>209349.0</td>\n",
       "    </tr>\n",
       "    <tr>\n",
       "      <th>108</th>\n",
       "      <td>1515915625367976920</td>\n",
       "      <td>A</td>\n",
       "      <td>1</td>\n",
       "      <td>4</td>\n",
       "      <td>144.83</td>\n",
       "      <td>0.0</td>\n",
       "      <td>0.0</td>\n",
       "      <td>1</td>\n",
       "      <td>1</td>\n",
       "      <td>209349.0</td>\n",
       "    </tr>\n",
       "    <tr>\n",
       "      <th>113</th>\n",
       "      <td>1515915625368720412</td>\n",
       "      <td>A</td>\n",
       "      <td>1</td>\n",
       "      <td>2</td>\n",
       "      <td>425.56</td>\n",
       "      <td>0.0</td>\n",
       "      <td>0.0</td>\n",
       "      <td>1</td>\n",
       "      <td>0</td>\n",
       "      <td>209349.0</td>\n",
       "    </tr>\n",
       "    <tr>\n",
       "      <th>...</th>\n",
       "      <td>...</td>\n",
       "      <td>...</td>\n",
       "      <td>...</td>\n",
       "      <td>...</td>\n",
       "      <td>...</td>\n",
       "      <td>...</td>\n",
       "      <td>...</td>\n",
       "      <td>...</td>\n",
       "      <td>...</td>\n",
       "      <td>...</td>\n",
       "    </tr>\n",
       "    <tr>\n",
       "      <th>222375</th>\n",
       "      <td>1515915625611002957</td>\n",
       "      <td>B</td>\n",
       "      <td>1</td>\n",
       "      <td>1</td>\n",
       "      <td>490.54</td>\n",
       "      <td>0.0</td>\n",
       "      <td>0.0</td>\n",
       "      <td>1</td>\n",
       "      <td>0</td>\n",
       "      <td>209349.0</td>\n",
       "    </tr>\n",
       "    <tr>\n",
       "      <th>222403</th>\n",
       "      <td>1515915625611007170</td>\n",
       "      <td>B</td>\n",
       "      <td>1</td>\n",
       "      <td>1</td>\n",
       "      <td>839.75</td>\n",
       "      <td>0.0</td>\n",
       "      <td>0.0</td>\n",
       "      <td>1</td>\n",
       "      <td>0</td>\n",
       "      <td>209349.0</td>\n",
       "    </tr>\n",
       "    <tr>\n",
       "      <th>222424</th>\n",
       "      <td>1515915625611010717</td>\n",
       "      <td>B</td>\n",
       "      <td>1</td>\n",
       "      <td>3</td>\n",
       "      <td>1493.89</td>\n",
       "      <td>0.0</td>\n",
       "      <td>0.0</td>\n",
       "      <td>2</td>\n",
       "      <td>0</td>\n",
       "      <td>219885.0</td>\n",
       "    </tr>\n",
       "    <tr>\n",
       "      <th>222440</th>\n",
       "      <td>1515915625611013140</td>\n",
       "      <td>B</td>\n",
       "      <td>1</td>\n",
       "      <td>2</td>\n",
       "      <td>642.29</td>\n",
       "      <td>0.0</td>\n",
       "      <td>0.0</td>\n",
       "      <td>2</td>\n",
       "      <td>0</td>\n",
       "      <td>219885.0</td>\n",
       "    </tr>\n",
       "    <tr>\n",
       "      <th>222474</th>\n",
       "      <td>1515915625611017481</td>\n",
       "      <td>B</td>\n",
       "      <td>1</td>\n",
       "      <td>1</td>\n",
       "      <td>214.10</td>\n",
       "      <td>0.0</td>\n",
       "      <td>0.0</td>\n",
       "      <td>1</td>\n",
       "      <td>0</td>\n",
       "      <td>209349.0</td>\n",
       "    </tr>\n",
       "  </tbody>\n",
       "</table>\n",
       "<p>22445 rows × 10 columns</p>\n",
       "</div>"
      ],
      "text/plain": [
       "                    user_id group  is_viewed  products_viewed_cnt  price_sum  \\\n",
       "13      1515915625353706476     A          1                   12     522.75   \n",
       "33      1515915625355805313     A          1                    4    1336.40   \n",
       "36      1515915625356129712     A          1                    4     144.42   \n",
       "108     1515915625367976920     A          1                    4     144.83   \n",
       "113     1515915625368720412     A          1                    2     425.56   \n",
       "...                     ...   ...        ...                  ...        ...   \n",
       "222375  1515915625611002957     B          1                    1     490.54   \n",
       "222403  1515915625611007170     B          1                    1     839.75   \n",
       "222424  1515915625611010717     B          1                    3    1493.89   \n",
       "222440  1515915625611013140     B          1                    2     642.29   \n",
       "222474  1515915625611017481     B          1                    1     214.10   \n",
       "\n",
       "        is_cart_added  is_purchased  cart_added_cnt  purchased_cnt      rank  \n",
       "13                0.0           0.0               2              0  219885.0  \n",
       "33                0.0           0.0               1              0  209349.0  \n",
       "36                0.0           0.0               1              0  209349.0  \n",
       "108               0.0           0.0               1              1  209349.0  \n",
       "113               0.0           0.0               1              0  209349.0  \n",
       "...               ...           ...             ...            ...       ...  \n",
       "222375            0.0           0.0               1              0  209349.0  \n",
       "222403            0.0           0.0               1              0  209349.0  \n",
       "222424            0.0           0.0               2              0  219885.0  \n",
       "222440            0.0           0.0               2              0  219885.0  \n",
       "222474            0.0           0.0               1              0  209349.0  \n",
       "\n",
       "[22445 rows x 10 columns]"
      ]
     },
     "execution_count": 28,
     "metadata": {},
     "output_type": "execute_result"
    }
   ],
   "source": [
    "ranked[ranked['cart_added_cnt'] > 0]"
   ]
  },
  {
   "cell_type": "code",
   "execution_count": 29,
   "id": "be25dfbb",
   "metadata": {},
   "outputs": [
    {
     "name": "stdout",
     "output_type": "stream",
     "text": [
      "111170.45633348604 111351.6421897482 0.16298022175842064\n"
     ]
    }
   ],
   "source": [
    "print(ranked[ranked.group == 'A']['rank'].mean(),\n",
    "      ranked[ranked.group == 'B']['rank'].mean(), \n",
    "      ((ranked[ranked.group == 'B']['rank'].mean() - ranked[ranked.group == 'A']['rank'].mean()) / \n",
    "       ranked[ranked.group == 'A']['rank'].mean()*100))"
   ]
  },
  {
   "cell_type": "code",
   "execution_count": 30,
   "id": "40836c38",
   "metadata": {},
   "outputs": [
    {
     "data": {
      "text/plain": [
       "Ttest_indResult(statistic=-1.2743727811526857, pvalue=0.20253266477504916)"
      ]
     },
     "execution_count": 30,
     "metadata": {},
     "output_type": "execute_result"
    }
   ],
   "source": [
    "stats.ttest_ind(ranked[ranked.group == 'A']['rank'], ranked[ranked.group == 'B']['rank'])"
   ]
  },
  {
   "cell_type": "code",
   "execution_count": 31,
   "id": "bda2b8bc",
   "metadata": {},
   "outputs": [
    {
     "data": {
      "text/plain": [
       "MannwhitneyuResult(statistic=6179368188.5, pvalue=0.2025319893087626)"
      ]
     },
     "execution_count": 31,
     "metadata": {},
     "output_type": "execute_result"
    }
   ],
   "source": [
    "stats.mannwhitneyu(shop_metrics_new[shop_metrics_new.group == 'A']['cart_added_cnt'], \n",
    "                   shop_metrics_new[shop_metrics_new.group == 'B']['cart_added_cnt'])"
   ]
  },
  {
   "cell_type": "markdown",
   "id": "c2ad61f5",
   "metadata": {},
   "source": [
    "Различие между группами мало и t-test не нашел разницу, при этом t-test на ранговой метрике показал почти одинаковый результат с mwhithney на обычной метрике"
   ]
  },
  {
   "cell_type": "markdown",
   "id": "39add842",
   "metadata": {},
   "source": [
    "Для сравнения t-test на той же метрике, но без ранговой трансформации:"
   ]
  },
  {
   "cell_type": "code",
   "execution_count": 150,
   "id": "22067770",
   "metadata": {},
   "outputs": [
    {
     "data": {
      "text/plain": [
       "Ttest_indResult(statistic=-1.3047727178459143, pvalue=0.1919716009958315)"
      ]
     },
     "execution_count": 150,
     "metadata": {},
     "output_type": "execute_result"
    }
   ],
   "source": [
    "stats.ttest_ind(shop_metrics_new[shop_metrics_new.group == 'A']['cart_added_cnt'], \n",
    "                shop_metrics_new[shop_metrics_new.group == 'B']['cart_added_cnt'])"
   ]
  },
  {
   "cell_type": "markdown",
   "id": "2119dcf8",
   "metadata": {},
   "source": [
    "Cредние тоже практически идентичны, но разница между группами в процентах больше, однако сам t-test на обычной метрике разницу тоже не нашел"
   ]
  },
  {
   "cell_type": "code",
   "execution_count": 40,
   "id": "1ebb2046",
   "metadata": {},
   "outputs": [
    {
     "name": "stdout",
     "output_type": "stream",
     "text": [
      "0.1350419058398685 0.1385521582733813 2.5993801047766807\n"
     ]
    }
   ],
   "source": [
    "print(shop_metrics_new[shop_metrics_new.group == 'A']['cart_added_cnt'].mean(),\n",
    "      shop_metrics_new[shop_metrics_new.group == 'B']['cart_added_cnt'].mean(),\n",
    "     ((shop_metrics_new[shop_metrics_new.group == 'B']['cart_added_cnt'].mean() - shop_metrics_new[shop_metrics_new.group == 'A']['cart_added_cnt'].mean())/shop_metrics_new[shop_metrics_new.group == 'A']['cart_added_cnt'].mean()) * 100)"
   ]
  },
  {
   "cell_type": "markdown",
   "id": "377f97a5",
   "metadata": {},
   "source": [
    "# 2. CUPED"
   ]
  },
  {
   "cell_type": "code",
   "execution_count": 59,
   "id": "0990b6d4",
   "metadata": {},
   "outputs": [],
   "source": [
    "def cuped_transform(df, metrics):\n",
    "\n",
    "    new_columns = [str(m+'_cuped') for m in metrics]\n",
    "    df[new_columns] = pd.DataFrame([[0] * len(new_columns)], index=df.index)\n",
    "\n",
    "    df_mini = df.fillna(0)\n",
    "    for m in metrics:\n",
    "        covariate_column = str(m+'_covariate')\n",
    "        cuped_column = str(m+'_cuped')\n",
    "        mean_covariate = df_mini[covariate_column].mean()\n",
    "\n",
    "        theta = (df_mini[m].cov(df_mini[covariate_column]))/(df_mini.loc[:,covariate_column].var())\n",
    "        df_mini[cuped_column] = df_mini[m] - (df_mini[covariate_column] - mean_covariate) * theta\n",
    "\n",
    "    df.update(df_mini)\n",
    "\n",
    "    return df.drop_duplicates()\n"
   ]
  },
  {
   "cell_type": "markdown",
   "id": "2a00e50c",
   "metadata": {},
   "source": [
    "Возьмем исторические значения из датафрейма old"
   ]
  },
  {
   "cell_type": "code",
   "execution_count": 60,
   "id": "d86f8e72",
   "metadata": {},
   "outputs": [
    {
     "data": {
      "text/html": [
       "<div>\n",
       "<style scoped>\n",
       "    .dataframe tbody tr th:only-of-type {\n",
       "        vertical-align: middle;\n",
       "    }\n",
       "\n",
       "    .dataframe tbody tr th {\n",
       "        vertical-align: top;\n",
       "    }\n",
       "\n",
       "    .dataframe thead th {\n",
       "        text-align: right;\n",
       "    }\n",
       "</style>\n",
       "<table border=\"1\" class=\"dataframe\">\n",
       "  <thead>\n",
       "    <tr style=\"text-align: right;\">\n",
       "      <th></th>\n",
       "      <th>user_id</th>\n",
       "      <th>group</th>\n",
       "      <th>is_viewed</th>\n",
       "      <th>products_viewed_cnt</th>\n",
       "      <th>price_sum</th>\n",
       "      <th>is_cart_added</th>\n",
       "      <th>is_purchased</th>\n",
       "      <th>cart_added_cnt</th>\n",
       "      <th>purchased_cnt</th>\n",
       "      <th>cart_added_cnt_ln</th>\n",
       "    </tr>\n",
       "  </thead>\n",
       "  <tbody>\n",
       "    <tr>\n",
       "      <th>0</th>\n",
       "      <td>1515915625353226922</td>\n",
       "      <td>B</td>\n",
       "      <td>1</td>\n",
       "      <td>1</td>\n",
       "      <td>76.48</td>\n",
       "      <td>0.0</td>\n",
       "      <td>0.0</td>\n",
       "      <td>0</td>\n",
       "      <td>0</td>\n",
       "      <td>0.0</td>\n",
       "    </tr>\n",
       "    <tr>\n",
       "      <th>1</th>\n",
       "      <td>1515915625353230067</td>\n",
       "      <td>A</td>\n",
       "      <td>1</td>\n",
       "      <td>1</td>\n",
       "      <td>28.98</td>\n",
       "      <td>0.0</td>\n",
       "      <td>0.0</td>\n",
       "      <td>0</td>\n",
       "      <td>0</td>\n",
       "      <td>0.0</td>\n",
       "    </tr>\n",
       "    <tr>\n",
       "      <th>2</th>\n",
       "      <td>1515915625353230683</td>\n",
       "      <td>A</td>\n",
       "      <td>1</td>\n",
       "      <td>10</td>\n",
       "      <td>592.21</td>\n",
       "      <td>0.0</td>\n",
       "      <td>0.0</td>\n",
       "      <td>0</td>\n",
       "      <td>0</td>\n",
       "      <td>0.0</td>\n",
       "    </tr>\n",
       "    <tr>\n",
       "      <th>3</th>\n",
       "      <td>1515915625353230922</td>\n",
       "      <td>A</td>\n",
       "      <td>1</td>\n",
       "      <td>1</td>\n",
       "      <td>274.40</td>\n",
       "      <td>0.0</td>\n",
       "      <td>0.0</td>\n",
       "      <td>0</td>\n",
       "      <td>0</td>\n",
       "      <td>0.0</td>\n",
       "    </tr>\n",
       "    <tr>\n",
       "      <th>4</th>\n",
       "      <td>1515915625353234047</td>\n",
       "      <td>A</td>\n",
       "      <td>1</td>\n",
       "      <td>14</td>\n",
       "      <td>1857.94</td>\n",
       "      <td>0.0</td>\n",
       "      <td>0.0</td>\n",
       "      <td>0</td>\n",
       "      <td>0</td>\n",
       "      <td>0.0</td>\n",
       "    </tr>\n",
       "  </tbody>\n",
       "</table>\n",
       "</div>"
      ],
      "text/plain": [
       "               user_id group  is_viewed  products_viewed_cnt  price_sum  \\\n",
       "0  1515915625353226922     B          1                    1      76.48   \n",
       "1  1515915625353230067     A          1                    1      28.98   \n",
       "2  1515915625353230683     A          1                   10     592.21   \n",
       "3  1515915625353230922     A          1                    1     274.40   \n",
       "4  1515915625353234047     A          1                   14    1857.94   \n",
       "\n",
       "   is_cart_added  is_purchased  cart_added_cnt  purchased_cnt  \\\n",
       "0            0.0           0.0               0              0   \n",
       "1            0.0           0.0               0              0   \n",
       "2            0.0           0.0               0              0   \n",
       "3            0.0           0.0               0              0   \n",
       "4            0.0           0.0               0              0   \n",
       "\n",
       "   cart_added_cnt_ln  \n",
       "0                0.0  \n",
       "1                0.0  \n",
       "2                0.0  \n",
       "3                0.0  \n",
       "4                0.0  "
      ]
     },
     "execution_count": 60,
     "metadata": {},
     "output_type": "execute_result"
    }
   ],
   "source": [
    "shop_metrics_old.head()"
   ]
  },
  {
   "cell_type": "code",
   "execution_count": 61,
   "id": "d3cff236",
   "metadata": {},
   "outputs": [],
   "source": [
    "shop_metrics_all = pd.merge(shop_metrics_new, shop_metrics_old[['user_id', 'cart_added_cnt']], on=['user_id'], how='left')"
   ]
  },
  {
   "cell_type": "code",
   "execution_count": 62,
   "id": "f3a53fcc",
   "metadata": {},
   "outputs": [],
   "source": [
    "shop_metrics_all = shop_metrics_all\\\n",
    "                   .rename(columns={'cart_added_cnt_x': 'cart_added_cnt', 'cart_added_cnt_y': 'cart_added_cnt_covariate'})"
   ]
  },
  {
   "cell_type": "code",
   "execution_count": 63,
   "id": "8947a6a6",
   "metadata": {},
   "outputs": [
    {
     "data": {
      "text/html": [
       "<div>\n",
       "<style scoped>\n",
       "    .dataframe tbody tr th:only-of-type {\n",
       "        vertical-align: middle;\n",
       "    }\n",
       "\n",
       "    .dataframe tbody tr th {\n",
       "        vertical-align: top;\n",
       "    }\n",
       "\n",
       "    .dataframe thead th {\n",
       "        text-align: right;\n",
       "    }\n",
       "</style>\n",
       "<table border=\"1\" class=\"dataframe\">\n",
       "  <thead>\n",
       "    <tr style=\"text-align: right;\">\n",
       "      <th></th>\n",
       "      <th>user_id</th>\n",
       "      <th>group</th>\n",
       "      <th>is_viewed</th>\n",
       "      <th>products_viewed_cnt</th>\n",
       "      <th>price_sum</th>\n",
       "      <th>is_cart_added</th>\n",
       "      <th>is_purchased</th>\n",
       "      <th>cart_added_cnt</th>\n",
       "      <th>purchased_cnt</th>\n",
       "      <th>cart_added_cnt_ln</th>\n",
       "      <th>cart_added_cnt_covariate</th>\n",
       "    </tr>\n",
       "  </thead>\n",
       "  <tbody>\n",
       "    <tr>\n",
       "      <th>0</th>\n",
       "      <td>1515915625353230683</td>\n",
       "      <td>A</td>\n",
       "      <td>1</td>\n",
       "      <td>1</td>\n",
       "      <td>339.79</td>\n",
       "      <td>0.0</td>\n",
       "      <td>0.0</td>\n",
       "      <td>0</td>\n",
       "      <td>0</td>\n",
       "      <td>0.0</td>\n",
       "      <td>0</td>\n",
       "    </tr>\n",
       "    <tr>\n",
       "      <th>1</th>\n",
       "      <td>1515915625353234047</td>\n",
       "      <td>A</td>\n",
       "      <td>1</td>\n",
       "      <td>9</td>\n",
       "      <td>861.86</td>\n",
       "      <td>0.0</td>\n",
       "      <td>0.0</td>\n",
       "      <td>0</td>\n",
       "      <td>0</td>\n",
       "      <td>0.0</td>\n",
       "      <td>0</td>\n",
       "    </tr>\n",
       "    <tr>\n",
       "      <th>2</th>\n",
       "      <td>1515915625353236157</td>\n",
       "      <td>A</td>\n",
       "      <td>1</td>\n",
       "      <td>4</td>\n",
       "      <td>179.60</td>\n",
       "      <td>0.0</td>\n",
       "      <td>0.0</td>\n",
       "      <td>0</td>\n",
       "      <td>0</td>\n",
       "      <td>0.0</td>\n",
       "      <td>0</td>\n",
       "    </tr>\n",
       "    <tr>\n",
       "      <th>3</th>\n",
       "      <td>1515915625353294441</td>\n",
       "      <td>B</td>\n",
       "      <td>1</td>\n",
       "      <td>28</td>\n",
       "      <td>4283.04</td>\n",
       "      <td>0.0</td>\n",
       "      <td>0.0</td>\n",
       "      <td>0</td>\n",
       "      <td>0</td>\n",
       "      <td>0.0</td>\n",
       "      <td>0</td>\n",
       "    </tr>\n",
       "    <tr>\n",
       "      <th>4</th>\n",
       "      <td>1515915625353386199</td>\n",
       "      <td>B</td>\n",
       "      <td>1</td>\n",
       "      <td>1</td>\n",
       "      <td>20.98</td>\n",
       "      <td>0.0</td>\n",
       "      <td>0.0</td>\n",
       "      <td>0</td>\n",
       "      <td>0</td>\n",
       "      <td>0.0</td>\n",
       "      <td>0</td>\n",
       "    </tr>\n",
       "    <tr>\n",
       "      <th>...</th>\n",
       "      <td>...</td>\n",
       "      <td>...</td>\n",
       "      <td>...</td>\n",
       "      <td>...</td>\n",
       "      <td>...</td>\n",
       "      <td>...</td>\n",
       "      <td>...</td>\n",
       "      <td>...</td>\n",
       "      <td>...</td>\n",
       "      <td>...</td>\n",
       "      <td>...</td>\n",
       "    </tr>\n",
       "    <tr>\n",
       "      <th>222516</th>\n",
       "      <td>1515915625611023671</td>\n",
       "      <td>B</td>\n",
       "      <td>1</td>\n",
       "      <td>1</td>\n",
       "      <td>32.22</td>\n",
       "      <td>0.0</td>\n",
       "      <td>0.0</td>\n",
       "      <td>0</td>\n",
       "      <td>0</td>\n",
       "      <td>0.0</td>\n",
       "      <td>0</td>\n",
       "    </tr>\n",
       "    <tr>\n",
       "      <th>222517</th>\n",
       "      <td>1515915625611023730</td>\n",
       "      <td>B</td>\n",
       "      <td>1</td>\n",
       "      <td>1</td>\n",
       "      <td>219.94</td>\n",
       "      <td>0.0</td>\n",
       "      <td>0.0</td>\n",
       "      <td>0</td>\n",
       "      <td>0</td>\n",
       "      <td>0.0</td>\n",
       "      <td>0</td>\n",
       "    </tr>\n",
       "    <tr>\n",
       "      <th>222518</th>\n",
       "      <td>1515915625611024014</td>\n",
       "      <td>B</td>\n",
       "      <td>1</td>\n",
       "      <td>1</td>\n",
       "      <td>80.03</td>\n",
       "      <td>0.0</td>\n",
       "      <td>0.0</td>\n",
       "      <td>0</td>\n",
       "      <td>0</td>\n",
       "      <td>0.0</td>\n",
       "      <td>0</td>\n",
       "    </tr>\n",
       "    <tr>\n",
       "      <th>222519</th>\n",
       "      <td>1515915625611024020</td>\n",
       "      <td>B</td>\n",
       "      <td>1</td>\n",
       "      <td>1</td>\n",
       "      <td>64.92</td>\n",
       "      <td>0.0</td>\n",
       "      <td>0.0</td>\n",
       "      <td>0</td>\n",
       "      <td>0</td>\n",
       "      <td>0.0</td>\n",
       "      <td>0</td>\n",
       "    </tr>\n",
       "    <tr>\n",
       "      <th>222520</th>\n",
       "      <td>1515915625611024030</td>\n",
       "      <td>B</td>\n",
       "      <td>1</td>\n",
       "      <td>1</td>\n",
       "      <td>10.16</td>\n",
       "      <td>0.0</td>\n",
       "      <td>0.0</td>\n",
       "      <td>0</td>\n",
       "      <td>0</td>\n",
       "      <td>0.0</td>\n",
       "      <td>0</td>\n",
       "    </tr>\n",
       "  </tbody>\n",
       "</table>\n",
       "<p>222521 rows × 11 columns</p>\n",
       "</div>"
      ],
      "text/plain": [
       "                    user_id group  is_viewed  products_viewed_cnt  price_sum  \\\n",
       "0       1515915625353230683     A          1                    1     339.79   \n",
       "1       1515915625353234047     A          1                    9     861.86   \n",
       "2       1515915625353236157     A          1                    4     179.60   \n",
       "3       1515915625353294441     B          1                   28    4283.04   \n",
       "4       1515915625353386199     B          1                    1      20.98   \n",
       "...                     ...   ...        ...                  ...        ...   \n",
       "222516  1515915625611023671     B          1                    1      32.22   \n",
       "222517  1515915625611023730     B          1                    1     219.94   \n",
       "222518  1515915625611024014     B          1                    1      80.03   \n",
       "222519  1515915625611024020     B          1                    1      64.92   \n",
       "222520  1515915625611024030     B          1                    1      10.16   \n",
       "\n",
       "        is_cart_added  is_purchased  cart_added_cnt  purchased_cnt  \\\n",
       "0                 0.0           0.0               0              0   \n",
       "1                 0.0           0.0               0              0   \n",
       "2                 0.0           0.0               0              0   \n",
       "3                 0.0           0.0               0              0   \n",
       "4                 0.0           0.0               0              0   \n",
       "...               ...           ...             ...            ...   \n",
       "222516            0.0           0.0               0              0   \n",
       "222517            0.0           0.0               0              0   \n",
       "222518            0.0           0.0               0              0   \n",
       "222519            0.0           0.0               0              0   \n",
       "222520            0.0           0.0               0              0   \n",
       "\n",
       "        cart_added_cnt_ln  cart_added_cnt_covariate  \n",
       "0                     0.0                         0  \n",
       "1                     0.0                         0  \n",
       "2                     0.0                         0  \n",
       "3                     0.0                         0  \n",
       "4                     0.0                         0  \n",
       "...                   ...                       ...  \n",
       "222516                0.0                         0  \n",
       "222517                0.0                         0  \n",
       "222518                0.0                         0  \n",
       "222519                0.0                         0  \n",
       "222520                0.0                         0  \n",
       "\n",
       "[222521 rows x 11 columns]"
      ]
     },
     "execution_count": 63,
     "metadata": {},
     "output_type": "execute_result"
    }
   ],
   "source": [
    "shop_metrics_all"
   ]
  },
  {
   "cell_type": "code",
   "execution_count": 64,
   "id": "0ec7db1c",
   "metadata": {},
   "outputs": [],
   "source": [
    "shop_metrics_all_cuped = cuped_transform(shop_metrics_all.copy(), ['cart_added_cnt'])"
   ]
  },
  {
   "cell_type": "code",
   "execution_count": 65,
   "id": "1c4573b1",
   "metadata": {},
   "outputs": [
    {
     "data": {
      "text/html": [
       "<div>\n",
       "<style scoped>\n",
       "    .dataframe tbody tr th:only-of-type {\n",
       "        vertical-align: middle;\n",
       "    }\n",
       "\n",
       "    .dataframe tbody tr th {\n",
       "        vertical-align: top;\n",
       "    }\n",
       "\n",
       "    .dataframe thead th {\n",
       "        text-align: right;\n",
       "    }\n",
       "</style>\n",
       "<table border=\"1\" class=\"dataframe\">\n",
       "  <thead>\n",
       "    <tr style=\"text-align: right;\">\n",
       "      <th></th>\n",
       "      <th>user_id</th>\n",
       "      <th>group</th>\n",
       "      <th>is_viewed</th>\n",
       "      <th>products_viewed_cnt</th>\n",
       "      <th>price_sum</th>\n",
       "      <th>is_cart_added</th>\n",
       "      <th>is_purchased</th>\n",
       "      <th>cart_added_cnt</th>\n",
       "      <th>purchased_cnt</th>\n",
       "      <th>cart_added_cnt_ln</th>\n",
       "      <th>cart_added_cnt_covariate</th>\n",
       "      <th>cart_added_cnt_cuped</th>\n",
       "    </tr>\n",
       "  </thead>\n",
       "  <tbody>\n",
       "    <tr>\n",
       "      <th>0</th>\n",
       "      <td>1515915625353230683</td>\n",
       "      <td>A</td>\n",
       "      <td>1</td>\n",
       "      <td>1</td>\n",
       "      <td>339.79</td>\n",
       "      <td>0.0</td>\n",
       "      <td>0.0</td>\n",
       "      <td>0</td>\n",
       "      <td>0</td>\n",
       "      <td>0.0</td>\n",
       "      <td>0</td>\n",
       "      <td>0.132761</td>\n",
       "    </tr>\n",
       "    <tr>\n",
       "      <th>1</th>\n",
       "      <td>1515915625353234047</td>\n",
       "      <td>A</td>\n",
       "      <td>1</td>\n",
       "      <td>9</td>\n",
       "      <td>861.86</td>\n",
       "      <td>0.0</td>\n",
       "      <td>0.0</td>\n",
       "      <td>0</td>\n",
       "      <td>0</td>\n",
       "      <td>0.0</td>\n",
       "      <td>0</td>\n",
       "      <td>0.132761</td>\n",
       "    </tr>\n",
       "    <tr>\n",
       "      <th>2</th>\n",
       "      <td>1515915625353236157</td>\n",
       "      <td>A</td>\n",
       "      <td>1</td>\n",
       "      <td>4</td>\n",
       "      <td>179.60</td>\n",
       "      <td>0.0</td>\n",
       "      <td>0.0</td>\n",
       "      <td>0</td>\n",
       "      <td>0</td>\n",
       "      <td>0.0</td>\n",
       "      <td>0</td>\n",
       "      <td>0.132761</td>\n",
       "    </tr>\n",
       "    <tr>\n",
       "      <th>3</th>\n",
       "      <td>1515915625353294441</td>\n",
       "      <td>B</td>\n",
       "      <td>1</td>\n",
       "      <td>28</td>\n",
       "      <td>4283.04</td>\n",
       "      <td>0.0</td>\n",
       "      <td>0.0</td>\n",
       "      <td>0</td>\n",
       "      <td>0</td>\n",
       "      <td>0.0</td>\n",
       "      <td>0</td>\n",
       "      <td>0.132761</td>\n",
       "    </tr>\n",
       "    <tr>\n",
       "      <th>4</th>\n",
       "      <td>1515915625353386199</td>\n",
       "      <td>B</td>\n",
       "      <td>1</td>\n",
       "      <td>1</td>\n",
       "      <td>20.98</td>\n",
       "      <td>0.0</td>\n",
       "      <td>0.0</td>\n",
       "      <td>0</td>\n",
       "      <td>0</td>\n",
       "      <td>0.0</td>\n",
       "      <td>0</td>\n",
       "      <td>0.132761</td>\n",
       "    </tr>\n",
       "  </tbody>\n",
       "</table>\n",
       "</div>"
      ],
      "text/plain": [
       "               user_id group  is_viewed  products_viewed_cnt  price_sum  \\\n",
       "0  1515915625353230683     A          1                    1     339.79   \n",
       "1  1515915625353234047     A          1                    9     861.86   \n",
       "2  1515915625353236157     A          1                    4     179.60   \n",
       "3  1515915625353294441     B          1                   28    4283.04   \n",
       "4  1515915625353386199     B          1                    1      20.98   \n",
       "\n",
       "   is_cart_added  is_purchased  cart_added_cnt  purchased_cnt  \\\n",
       "0            0.0           0.0               0              0   \n",
       "1            0.0           0.0               0              0   \n",
       "2            0.0           0.0               0              0   \n",
       "3            0.0           0.0               0              0   \n",
       "4            0.0           0.0               0              0   \n",
       "\n",
       "   cart_added_cnt_ln  cart_added_cnt_covariate  cart_added_cnt_cuped  \n",
       "0                0.0                         0              0.132761  \n",
       "1                0.0                         0              0.132761  \n",
       "2                0.0                         0              0.132761  \n",
       "3                0.0                         0              0.132761  \n",
       "4                0.0                         0              0.132761  "
      ]
     },
     "execution_count": 65,
     "metadata": {},
     "output_type": "execute_result"
    }
   ],
   "source": [
    "shop_metrics_all_cuped.head()"
   ]
  },
  {
   "cell_type": "markdown",
   "id": "670c82cb",
   "metadata": {},
   "source": [
    "Проверим, как на измененной метрике покажет себя t-test:"
   ]
  },
  {
   "cell_type": "code",
   "execution_count": 66,
   "id": "94767a44",
   "metadata": {},
   "outputs": [
    {
     "data": {
      "text/plain": [
       "Ttest_indResult(statistic=-1.3855896128448428, pvalue=0.1658736404876475)"
      ]
     },
     "execution_count": 66,
     "metadata": {},
     "output_type": "execute_result"
    }
   ],
   "source": [
    "stats.ttest_ind(shop_metrics_all_cuped[shop_metrics_all_cuped.group == 'A']['cart_added_cnt_cuped'], \n",
    "                shop_metrics_all_cuped[shop_metrics_all_cuped.group == 'B']['cart_added_cnt_cuped'])"
   ]
  },
  {
   "cell_type": "markdown",
   "id": "ea86ca0a",
   "metadata": {},
   "source": [
    "Сравним средние в измененной метрике и дисперсии:"
   ]
  },
  {
   "cell_type": "code",
   "execution_count": 49,
   "id": "c5fb855c",
   "metadata": {},
   "outputs": [
    {
     "name": "stdout",
     "output_type": "stream",
     "text": [
      "метрика_cuped A: 0.13638231572657297,         метрика_cuped B: 0.13721028984714181\n",
      "метрика без cuped A: 0.1350419058398685,         метрика без cuped B: 0.1385521582733813\n"
     ]
    }
   ],
   "source": [
    "print(f'метрика_cuped A: {shop_metrics_all_cuped[shop_metrics_all_cuped.group == \"A\"][\"cart_added_cnt_cuped\"].mean()}, \\\n",
    "        метрика_cuped B: {shop_metrics_all_cuped[shop_metrics_all_cuped.group == \"B\"][\"cart_added_cnt_cuped\"].mean()}')\n",
    "print(f'метрика без cuped A: {shop_metrics_all_cuped[shop_metrics_all_cuped.group == \"A\"][\"cart_added_cnt\"].mean()}, \\\n",
    "        метрика без cuped B: {shop_metrics_all_cuped[shop_metrics_all_cuped.group == \"B\"][\"cart_added_cnt\"].mean()}')"
   ]
  },
  {
   "cell_type": "code",
   "execution_count": 50,
   "id": "d2b7151b",
   "metadata": {},
   "outputs": [
    {
     "name": "stdout",
     "output_type": "stream",
     "text": [
      "метрика_cuped A: 0.01823518359964533,         метрика_cuped B: 0.021495363455396536\n",
      "метрика без cuped A: 0.3805867322090304,         метрика без cuped B: 0.4247189893567569\n"
     ]
    }
   ],
   "source": [
    "print(f'метрика_cuped A: {shop_metrics_all_cuped[shop_metrics_all_cuped.group == \"A\"][\"cart_added_cnt_cuped\"].var()}, \\\n",
    "        метрика_cuped B: {shop_metrics_all_cuped[shop_metrics_all_cuped.group == \"B\"][\"cart_added_cnt_cuped\"].var()}')\n",
    "print(f'метрика без cuped A: {shop_metrics_all_cuped[shop_metrics_all_cuped.group == \"A\"][\"cart_added_cnt\"].var()}, \\\n",
    "        метрика без cuped B: {shop_metrics_all_cuped[shop_metrics_all_cuped.group == \"B\"][\"cart_added_cnt\"].var()}')"
   ]
  },
  {
   "cell_type": "markdown",
   "id": "1a55ab7f",
   "metadata": {},
   "source": [
    "Супер, дисперсии понизились, значит CUPED сработал, средние не поменялись это тоже супер иначе выглядело бы странно"
   ]
  },
  {
   "cell_type": "code",
   "execution_count": 63,
   "id": "f037ae1c",
   "metadata": {},
   "outputs": [
    {
     "name": "stderr",
     "output_type": "stream",
     "text": [
      "100%|███████████████████████████████████████████████████████████████████████████████████| 100/100 [00:48<00:00,  2.06it/s]"
     ]
    },
    {
     "name": "stdout",
     "output_type": "stream",
     "text": [
      " power: 100.0% , correctness: 98.0%\n"
     ]
    },
    {
     "name": "stderr",
     "output_type": "stream",
     "text": [
      "\n"
     ]
    },
    {
     "data": {
      "image/png": "[encoded data removed]",
      "text/plain": [
       "<Figure size 470x427 with 1 Axes>"
      ]
     },
     "metadata": {},
     "output_type": "display_data"
    }
   ],
   "source": [
    "# мощность и корректность для CUPED\n",
    "\n",
    "correctness = []\n",
    "power = []\n",
    "\n",
    "for i in tqdm(range(100)):\n",
    "    \n",
    "    new_group = groups_splitter(shop.copy(), user_salt=salt_generator())\n",
    "    new_df = pd.merge(shop, new_group, how=\"left\", on=['user_id']).drop_duplicates()\n",
    "    all_df = pd.merge(new_df, shop_metrics_old[['user_id', 'cart_added_cnt']], on=['user_id'], how='left')\n",
    "    all_df = all_df.rename(columns={'cart_added_cnt_x': 'cart_added_cnt', 'cart_added_cnt_y': 'cart_added_cnt_covariate'})\n",
    "    \n",
    "    cuped_df = cuped_transform(all_df, ['cart_added_cnt'])\n",
    "    \n",
    "    vec_a = cuped_df[(cuped_df['group'] == 'A')]['cart_added_cnt_cuped']\n",
    "    vec_b = cuped_df[(cuped_df['group'] == 'B')]['cart_added_cnt_cuped']\n",
    "    \n",
    "    vec_b_effect = vec_b * 1.05\n",
    "    \n",
    "    \n",
    "    p_cor, p_power = stats.ttest_ind(vec_a, vec_b)[1], stats.ttest_ind(vec_a, vec_b_effect)[1]\n",
    "    correctness.append(p_cor)\n",
    "    power.append(p_power)\n",
    "\n",
    "correctness = np.array(correctness)\n",
    "sns.set(rc={'figure.figsize':(4.7,4.27)})\n",
    "sns.histplot(data=correctness, bins=10, color='brown', kde=True)\n",
    "\n",
    "power = np.array(power)\n",
    "    \n",
    "print(f' power: {(power[power < 0.05].shape[0] / power.shape[0]) * 100}% , correctness: {(1 - (correctness[correctness < 0.05].shape[0] / correctness.shape[0])) * 100}%')"
   ]
  },
  {
   "cell_type": "code",
   "execution_count": 51,
   "id": "7d685b9c",
   "metadata": {},
   "outputs": [],
   "source": [
    "shop_metrics_new['cart_added_cnt_ln'] = np.log(shop_metrics_new['cart_added_cnt'] + 1)"
   ]
  },
  {
   "cell_type": "code",
   "execution_count": 52,
   "id": "08575d43",
   "metadata": {},
   "outputs": [],
   "source": [
    "shop_metrics_old['cart_added_cnt_ln'] = np.log(shop_metrics_old['cart_added_cnt'] + 1)"
   ]
  },
  {
   "cell_type": "code",
   "execution_count": 53,
   "id": "c8e25bab",
   "metadata": {},
   "outputs": [],
   "source": [
    "shop['cart_added_cnt_ln'] = np.log(shop_metrics_old['cart_added_cnt_ln'] + 1)"
   ]
  },
  {
   "cell_type": "code",
   "execution_count": 55,
   "id": "8fc9029e",
   "metadata": {},
   "outputs": [
    {
     "name": "stdout",
     "output_type": "stream",
     "text": [
      "Ttest_indResult(statistic=-2.0493551017037106, pvalue=0.040428574068197394)\n",
      "---------------------------\n",
      "метрика_cuped A: 0.08034157852348374,         метрика_cuped B: 0.08072086382541542\n",
      "метрика без cuped A: 0.07974289062640032,         метрика без cuped B: 0.08132020317245879\n",
      "метрика_cuped A: 0.002055014378642917,         метрика_cuped B: 0.0017558187333519078\n",
      "метрика без cuped A: 0.06466232955752058,         метрика без cuped B: 0.06628259108478471\n"
     ]
    }
   ],
   "source": [
    "shop_metrics_all = pd.merge(shop_metrics_new, shop_metrics_old[['user_id', 'cart_added_cnt_ln']], on=['user_id'], how='left')\n",
    "shop_metrics_all = shop_metrics_all\\\n",
    "                   .rename(columns={'cart_added_cnt_ln_x': 'cart_added_cnt_ln', 'cart_added_cnt_ln_y': 'cart_added_cnt_ln_covariate'})\n",
    "shop_metrics_all_cuped = cuped_transform(shop_metrics_all.copy(), ['cart_added_cnt_ln'])\n",
    "print(stats.ttest_ind(shop_metrics_all_cuped[shop_metrics_all_cuped.group == 'A']['cart_added_cnt_ln_cuped'], \n",
    "                shop_metrics_all_cuped[shop_metrics_all_cuped.group == 'B']['cart_added_cnt_ln_cuped']))\n",
    "print('---------------------------')\n",
    "print(f'метрика_cuped A: {shop_metrics_all_cuped[shop_metrics_all_cuped.group == \"A\"][\"cart_added_cnt_ln_cuped\"].mean()}, \\\n",
    "        метрика_cuped B: {shop_metrics_all_cuped[shop_metrics_all_cuped.group == \"B\"][\"cart_added_cnt_ln_cuped\"].mean()}')\n",
    "print(f'метрика без cuped A: {shop_metrics_all_cuped[shop_metrics_all_cuped.group == \"A\"][\"cart_added_cnt_ln\"].mean()}, \\\n",
    "        метрика без cuped B: {shop_metrics_all_cuped[shop_metrics_all_cuped.group == \"B\"][\"cart_added_cnt_ln\"].mean()}')\n",
    "print(f'метрика_cuped A: {shop_metrics_all_cuped[shop_metrics_all_cuped.group == \"A\"][\"cart_added_cnt_ln_cuped\"].var()}, \\\n",
    "        метрика_cuped B: {shop_metrics_all_cuped[shop_metrics_all_cuped.group == \"B\"][\"cart_added_cnt_ln_cuped\"].var()}')\n",
    "print(f'метрика без cuped A: {shop_metrics_all_cuped[shop_metrics_all_cuped.group == \"A\"][\"cart_added_cnt_ln\"].var()}, \\\n",
    "        метрика без cuped B: {shop_metrics_all_cuped[shop_metrics_all_cuped.group == \"B\"][\"cart_added_cnt_ln\"].var()}')\n",
    "# мощность и корректность для CUPED\n"
   ]
  },
  {
   "cell_type": "markdown",
   "id": "d1ef9eaa",
   "metadata": {},
   "source": [
    " После применения логарифмирования получили интересные результаты, что p_val меньше 0.05 и это довольно интересно, получается после логарифмирования получили более чувствительную метрику - дисперсия стала меньше и после cuped тоже удалось ее понижить"
   ]
  },
  {
   "cell_type": "markdown",
   "id": "75083678",
   "metadata": {},
   "source": [
    "Еще есть интересное наблюдение: применение cuped к обычной метрике сильно уменьшало дисперсию, в то время как к логарифмированной метрике cuped показал не такое большое уменьшение дисперсии"
   ]
  },
  {
   "cell_type": "code",
   "execution_count": 68,
   "id": "2a9f6957",
   "metadata": {},
   "outputs": [
    {
     "data": {
      "text/plain": [
       "Ttest_indResult(statistic=-1.4539361335316499, pvalue=0.14596542412011715)"
      ]
     },
     "execution_count": 68,
     "metadata": {},
     "output_type": "execute_result"
    }
   ],
   "source": [
    "stats.ttest_ind(shop_metrics_all_cuped[shop_metrics_all_cuped.group == 'A']['cart_added_cnt_ln'], \n",
    "                shop_metrics_all_cuped[shop_metrics_all_cuped.group == 'B']['cart_added_cnt_ln'])"
   ]
  },
  {
   "cell_type": "code",
   "execution_count": 69,
   "id": "ead1fe87",
   "metadata": {},
   "outputs": [
    {
     "name": "stderr",
     "output_type": "stream",
     "text": [
      "100%|███████████████████████████████████████████████████████████████████████████████████| 100/100 [00:50<00:00,  1.99it/s]"
     ]
    },
    {
     "name": "stdout",
     "output_type": "stream",
     "text": [
      " power: 92.0% , correctness: 97.0%\n"
     ]
    },
    {
     "name": "stderr",
     "output_type": "stream",
     "text": [
      "\n"
     ]
    },
    {
     "data": {
      "image/png": "[encoded data removed]",
      "text/plain": [
       "<Figure size 470x427 with 1 Axes>"
      ]
     },
     "metadata": {},
     "output_type": "display_data"
    }
   ],
   "source": [
    "correctness = []\n",
    "power = []\n",
    "\n",
    "for i in tqdm(range(100)):\n",
    "    \n",
    "    new_group = groups_splitter(shop.copy(), user_salt=salt_generator())\n",
    "    new_df = pd.merge(shop, new_group, how=\"left\", on=['user_id']).drop_duplicates()\n",
    "    all_df = pd.merge(new_df, shop_metrics_old[['user_id', 'cart_added_cnt_ln']], on=['user_id'], how='left')\n",
    "    all_df = all_df.rename(columns={'cart_added_cnt_ln_x': 'cart_added_cnt_ln', 'cart_added_cnt_ln_y': 'cart_added_cnt_ln_covariate'})\n",
    "    \n",
    "    cuped_df = cuped_transform(all_df, ['cart_added_cnt_ln'])\n",
    "    \n",
    "    vec_a = cuped_df[(cuped_df['group'] == 'A')]['cart_added_cnt_ln_cuped']\n",
    "    vec_b = cuped_df[(cuped_df['group'] == 'B')]['cart_added_cnt_ln_cuped']\n",
    "    \n",
    "    vec_b_effect = vec_b * 1.05\n",
    "    \n",
    "    \n",
    "    p_cor, p_power = stats.ttest_ind(vec_a, vec_b)[1], stats.ttest_ind(vec_a, vec_b_effect)[1]\n",
    "    correctness.append(p_cor)\n",
    "    power.append(p_power)\n",
    "\n",
    "correctness = np.array(correctness)\n",
    "sns.set(rc={'figure.figsize':(4.7,4.27)})\n",
    "sns.histplot(data=correctness, bins=10, color='brown', kde=True)\n",
    "\n",
    "power = np.array(power)\n",
    "    \n",
    "print(f' power: {(power[power < 0.05].shape[0] / power.shape[0]) * 100}% , correctness: {(1 - (correctness[correctness < 0.05].shape[0] / correctness.shape[0])) * 100}%')\n"
   ]
  },
  {
   "cell_type": "code",
   "execution_count": 72,
   "id": "401c4dea",
   "metadata": {},
   "outputs": [
    {
     "data": {
      "text/html": [
       "<div>\n",
       "<style scoped>\n",
       "    .dataframe tbody tr th:only-of-type {\n",
       "        vertical-align: middle;\n",
       "    }\n",
       "\n",
       "    .dataframe tbody tr th {\n",
       "        vertical-align: top;\n",
       "    }\n",
       "\n",
       "    .dataframe thead th {\n",
       "        text-align: right;\n",
       "    }\n",
       "</style>\n",
       "<table border=\"1\" class=\"dataframe\">\n",
       "  <thead>\n",
       "    <tr style=\"text-align: right;\">\n",
       "      <th></th>\n",
       "      <th>user_id</th>\n",
       "      <th>group</th>\n",
       "      <th>is_viewed</th>\n",
       "      <th>products_viewed_cnt</th>\n",
       "      <th>price_sum</th>\n",
       "      <th>is_cart_added</th>\n",
       "      <th>is_purchased</th>\n",
       "      <th>cart_added_cnt</th>\n",
       "      <th>purchased_cnt</th>\n",
       "      <th>cart_added_cnt_ln</th>\n",
       "      <th>cart_added_cnt_covariate</th>\n",
       "      <th>cart_added_cnt_cuped</th>\n",
       "    </tr>\n",
       "  </thead>\n",
       "  <tbody>\n",
       "    <tr>\n",
       "      <th>0</th>\n",
       "      <td>1515915625353230683</td>\n",
       "      <td>A</td>\n",
       "      <td>1</td>\n",
       "      <td>1</td>\n",
       "      <td>339.79</td>\n",
       "      <td>0.0</td>\n",
       "      <td>0.0</td>\n",
       "      <td>0</td>\n",
       "      <td>0</td>\n",
       "      <td>0.0</td>\n",
       "      <td>0</td>\n",
       "      <td>0.132761</td>\n",
       "    </tr>\n",
       "    <tr>\n",
       "      <th>1</th>\n",
       "      <td>1515915625353234047</td>\n",
       "      <td>A</td>\n",
       "      <td>1</td>\n",
       "      <td>9</td>\n",
       "      <td>861.86</td>\n",
       "      <td>0.0</td>\n",
       "      <td>0.0</td>\n",
       "      <td>0</td>\n",
       "      <td>0</td>\n",
       "      <td>0.0</td>\n",
       "      <td>0</td>\n",
       "      <td>0.132761</td>\n",
       "    </tr>\n",
       "    <tr>\n",
       "      <th>2</th>\n",
       "      <td>1515915625353236157</td>\n",
       "      <td>A</td>\n",
       "      <td>1</td>\n",
       "      <td>4</td>\n",
       "      <td>179.60</td>\n",
       "      <td>0.0</td>\n",
       "      <td>0.0</td>\n",
       "      <td>0</td>\n",
       "      <td>0</td>\n",
       "      <td>0.0</td>\n",
       "      <td>0</td>\n",
       "      <td>0.132761</td>\n",
       "    </tr>\n",
       "    <tr>\n",
       "      <th>3</th>\n",
       "      <td>1515915625353294441</td>\n",
       "      <td>B</td>\n",
       "      <td>1</td>\n",
       "      <td>28</td>\n",
       "      <td>4283.04</td>\n",
       "      <td>0.0</td>\n",
       "      <td>0.0</td>\n",
       "      <td>0</td>\n",
       "      <td>0</td>\n",
       "      <td>0.0</td>\n",
       "      <td>0</td>\n",
       "      <td>0.132761</td>\n",
       "    </tr>\n",
       "    <tr>\n",
       "      <th>4</th>\n",
       "      <td>1515915625353386199</td>\n",
       "      <td>B</td>\n",
       "      <td>1</td>\n",
       "      <td>1</td>\n",
       "      <td>20.98</td>\n",
       "      <td>0.0</td>\n",
       "      <td>0.0</td>\n",
       "      <td>0</td>\n",
       "      <td>0</td>\n",
       "      <td>0.0</td>\n",
       "      <td>0</td>\n",
       "      <td>0.132761</td>\n",
       "    </tr>\n",
       "    <tr>\n",
       "      <th>...</th>\n",
       "      <td>...</td>\n",
       "      <td>...</td>\n",
       "      <td>...</td>\n",
       "      <td>...</td>\n",
       "      <td>...</td>\n",
       "      <td>...</td>\n",
       "      <td>...</td>\n",
       "      <td>...</td>\n",
       "      <td>...</td>\n",
       "      <td>...</td>\n",
       "      <td>...</td>\n",
       "      <td>...</td>\n",
       "    </tr>\n",
       "    <tr>\n",
       "      <th>222516</th>\n",
       "      <td>1515915625611023671</td>\n",
       "      <td>B</td>\n",
       "      <td>1</td>\n",
       "      <td>1</td>\n",
       "      <td>32.22</td>\n",
       "      <td>0.0</td>\n",
       "      <td>0.0</td>\n",
       "      <td>0</td>\n",
       "      <td>0</td>\n",
       "      <td>0.0</td>\n",
       "      <td>0</td>\n",
       "      <td>0.132761</td>\n",
       "    </tr>\n",
       "    <tr>\n",
       "      <th>222517</th>\n",
       "      <td>1515915625611023730</td>\n",
       "      <td>B</td>\n",
       "      <td>1</td>\n",
       "      <td>1</td>\n",
       "      <td>219.94</td>\n",
       "      <td>0.0</td>\n",
       "      <td>0.0</td>\n",
       "      <td>0</td>\n",
       "      <td>0</td>\n",
       "      <td>0.0</td>\n",
       "      <td>0</td>\n",
       "      <td>0.132761</td>\n",
       "    </tr>\n",
       "    <tr>\n",
       "      <th>222518</th>\n",
       "      <td>1515915625611024014</td>\n",
       "      <td>B</td>\n",
       "      <td>1</td>\n",
       "      <td>1</td>\n",
       "      <td>80.03</td>\n",
       "      <td>0.0</td>\n",
       "      <td>0.0</td>\n",
       "      <td>0</td>\n",
       "      <td>0</td>\n",
       "      <td>0.0</td>\n",
       "      <td>0</td>\n",
       "      <td>0.132761</td>\n",
       "    </tr>\n",
       "    <tr>\n",
       "      <th>222519</th>\n",
       "      <td>1515915625611024020</td>\n",
       "      <td>B</td>\n",
       "      <td>1</td>\n",
       "      <td>1</td>\n",
       "      <td>64.92</td>\n",
       "      <td>0.0</td>\n",
       "      <td>0.0</td>\n",
       "      <td>0</td>\n",
       "      <td>0</td>\n",
       "      <td>0.0</td>\n",
       "      <td>0</td>\n",
       "      <td>0.132761</td>\n",
       "    </tr>\n",
       "    <tr>\n",
       "      <th>222520</th>\n",
       "      <td>1515915625611024030</td>\n",
       "      <td>B</td>\n",
       "      <td>1</td>\n",
       "      <td>1</td>\n",
       "      <td>10.16</td>\n",
       "      <td>0.0</td>\n",
       "      <td>0.0</td>\n",
       "      <td>0</td>\n",
       "      <td>0</td>\n",
       "      <td>0.0</td>\n",
       "      <td>0</td>\n",
       "      <td>0.132761</td>\n",
       "    </tr>\n",
       "  </tbody>\n",
       "</table>\n",
       "<p>222521 rows × 12 columns</p>\n",
       "</div>"
      ],
      "text/plain": [
       "                    user_id group  is_viewed  products_viewed_cnt  price_sum  \\\n",
       "0       1515915625353230683     A          1                    1     339.79   \n",
       "1       1515915625353234047     A          1                    9     861.86   \n",
       "2       1515915625353236157     A          1                    4     179.60   \n",
       "3       1515915625353294441     B          1                   28    4283.04   \n",
       "4       1515915625353386199     B          1                    1      20.98   \n",
       "...                     ...   ...        ...                  ...        ...   \n",
       "222516  1515915625611023671     B          1                    1      32.22   \n",
       "222517  1515915625611023730     B          1                    1     219.94   \n",
       "222518  1515915625611024014     B          1                    1      80.03   \n",
       "222519  1515915625611024020     B          1                    1      64.92   \n",
       "222520  1515915625611024030     B          1                    1      10.16   \n",
       "\n",
       "        is_cart_added  is_purchased  cart_added_cnt  purchased_cnt  \\\n",
       "0                 0.0           0.0               0              0   \n",
       "1                 0.0           0.0               0              0   \n",
       "2                 0.0           0.0               0              0   \n",
       "3                 0.0           0.0               0              0   \n",
       "4                 0.0           0.0               0              0   \n",
       "...               ...           ...             ...            ...   \n",
       "222516            0.0           0.0               0              0   \n",
       "222517            0.0           0.0               0              0   \n",
       "222518            0.0           0.0               0              0   \n",
       "222519            0.0           0.0               0              0   \n",
       "222520            0.0           0.0               0              0   \n",
       "\n",
       "        cart_added_cnt_ln  cart_added_cnt_covariate  cart_added_cnt_cuped  \n",
       "0                     0.0                         0              0.132761  \n",
       "1                     0.0                         0              0.132761  \n",
       "2                     0.0                         0              0.132761  \n",
       "3                     0.0                         0              0.132761  \n",
       "4                     0.0                         0              0.132761  \n",
       "...                   ...                       ...                   ...  \n",
       "222516                0.0                         0              0.132761  \n",
       "222517                0.0                         0              0.132761  \n",
       "222518                0.0                         0              0.132761  \n",
       "222519                0.0                         0              0.132761  \n",
       "222520                0.0                         0              0.132761  \n",
       "\n",
       "[222521 rows x 12 columns]"
      ]
     },
     "execution_count": 72,
     "metadata": {},
     "output_type": "execute_result"
    }
   ],
   "source": [
    "shop_metrics_all_cuped"
   ]
  },
  {
   "cell_type": "code",
   "execution_count": 73,
   "id": "47fa4b79",
   "metadata": {},
   "outputs": [],
   "source": [
    "ranked = rank_transformation(shop_metrics_all_cuped[shop_metrics_all_cuped.group == 'A'], \n",
    "                             shop_metrics_all_cuped[shop_metrics_all_cuped.group == 'B'], 'cart_added_cnt_cuped')"
   ]
  },
  {
   "cell_type": "code",
   "execution_count": 76,
   "id": "6382d010",
   "metadata": {},
   "outputs": [
    {
     "data": {
      "text/plain": [
       "Ttest_indResult(statistic=-1.4459909525623789, pvalue=0.14818114788143424)"
      ]
     },
     "execution_count": 76,
     "metadata": {},
     "output_type": "execute_result"
    }
   ],
   "source": [
    "stats.ttest_ind(ranked[ranked.group == 'A']['rank'], ranked[ranked.group == 'B']['rank'])\n"
   ]
  },
  {
   "cell_type": "code",
   "execution_count": 89,
   "id": "fc587d51",
   "metadata": {},
   "outputs": [
    {
     "name": "stdout",
     "output_type": "stream",
     "text": [
      "на метрике без cuped\n",
      "111170.45633348604 111351.6421897482 0.16298022175842064\n"
     ]
    }
   ],
   "source": [
    "print('на метрике без cuped')\n",
    "print(ranked[ranked.group == 'A']['rank'].mean(),\n",
    "      ranked[ranked.group == 'B']['rank'].mean(), \n",
    "      ((ranked[ranked.group == 'B']['rank'].mean() - ranked[ranked.group == 'A']['rank'].mean()) / \n",
    "       ranked[ranked.group == 'A']['rank'].mean()*100))"
   ]
  },
  {
   "cell_type": "code",
   "execution_count": 92,
   "id": "8eed9e55",
   "metadata": {},
   "outputs": [
    {
     "name": "stdout",
     "output_type": "stream",
     "text": [
      "на метрике без cuped\n",
      "1116108735.2907896 1132936846.743577\n"
     ]
    }
   ],
   "source": [
    "print('на метрике без cuped')\n",
    "print(ranked[ranked.group == 'A']['rank'].var(),\n",
    "      ranked[ranked.group == 'B']['rank'].var())"
   ]
  },
  {
   "cell_type": "code",
   "execution_count": 83,
   "id": "5566fab8",
   "metadata": {},
   "outputs": [
    {
     "name": "stdout",
     "output_type": "stream",
     "text": [
      "метрика_cuped A: 111157.3299691882,         метрика_cuped B: 111364.78283723022\n"
     ]
    }
   ],
   "source": [
    "print(f'метрика_cuped A: {ranked[ranked.group == \"A\"][\"rank\"].mean()}, \\\n",
    "        метрика_cuped B: {ranked[ranked.group == \"B\"][\"rank\"].mean()}')\n"
   ]
  },
  {
   "cell_type": "code",
   "execution_count": 82,
   "id": "85b74b15",
   "metadata": {},
   "outputs": [
    {
     "name": "stdout",
     "output_type": "stream",
     "text": [
      "метрика_cuped A: 1138307738.193268,         метрика_cuped B: 1151768826.5589178\n"
     ]
    }
   ],
   "source": [
    "print(f'метрика_cuped A: {ranked[ranked.group == \"A\"][\"rank\"].var()}, \\\n",
    "        метрика_cuped B: {ranked[ranked.group == \"B\"][\"rank\"].var()}')\n"
   ]
  },
  {
   "cell_type": "markdown",
   "id": "94e93f7b",
   "metadata": {},
   "source": [
    "Тут в целом после cuped и рангового преобразования дисперсия особо и не поменялась"
   ]
  },
  {
   "cell_type": "code",
   "execution_count": 78,
   "id": "cdd3fbbc",
   "metadata": {},
   "outputs": [
    {
     "data": {
      "text/plain": [
       "MannwhitneyuResult(statistic=6177906948.5, pvalue=0.1481807511975509)"
      ]
     },
     "execution_count": 78,
     "metadata": {},
     "output_type": "execute_result"
    }
   ],
   "source": [
    "stats.mannwhitneyu(shop_metrics_all_cuped[shop_metrics_all_cuped.group == 'A']['cart_added_cnt_cuped'], \n",
    "                   shop_metrics_all_cuped[shop_metrics_all_cuped.group == 'B']['cart_added_cnt_cuped'])"
   ]
  },
  {
   "cell_type": "markdown",
   "id": "8229bdad",
   "metadata": {},
   "source": [
    "# 3. Реализовать разбивку на бакеты, оценить t-критерием и сравнить с результатом без бакетирования:"
   ]
  },
  {
   "cell_type": "code",
   "execution_count": 102,
   "id": "bdd09686",
   "metadata": {},
   "outputs": [
    {
     "data": {
      "image/png": "[encoded data removed]",
      "text/plain": [
       "<Figure size 1500x600 with 2 Axes>"
      ]
     },
     "metadata": {},
     "output_type": "display_data"
    }
   ],
   "source": [
    "# параметры\n",
    "mu, sigma = 0.1, 2 # среднее значение и стандартное отклонение\n",
    "sample_size = 10000000  # размер выборки\n",
    "data = np.random.lognormal(mu, sigma, sample_size)\n",
    "num_buckets = 500\n",
    "# группировка пользователей по бакетам и подсчет суммы покупок в каждом бакете\n",
    "bucket_sums = []\n",
    "for i in range(num_buckets):\n",
    "    bucket_sum = np.sum(data[i * users_per_bucket: (i + 1) * users_per_bucket])\n",
    "    bucket_sums.append(bucket_sum)\n",
    "\n",
    "# визуализация\n",
    "plt.figure(figsize=(15, 6))\n",
    "\n",
    "plt.subplot(1, 2, 1)\n",
    "plt.hist(purchases, bins=range(20), edgecolor='black', alpha=0.7)\n",
    "\n",
    "\n",
    "plt.subplot(1, 2, 2)\n",
    "plt.hist(bucket_sums, bins=50, edgecolor='black', alpha=0.7)\n",
    "\n",
    "plt.tight_layout()\n",
    "plt.show()"
   ]
  },
  {
   "cell_type": "code",
   "execution_count": 136,
   "id": "5bbe9ba1",
   "metadata": {},
   "outputs": [],
   "source": [
    "df_list = pd.DataFrame(data)"
   ]
  },
  {
   "cell_type": "code",
   "execution_count": 138,
   "id": "e2c872c8",
   "metadata": {},
   "outputs": [],
   "source": [
    "df_list['user_id'] = range(len(df_list))\n",
    "df_list['group'] = range(len(df_list))\n",
    "df_list['group'].loc[0:len(df_list)/2] = 'A'\n",
    "df_list['group'].loc[len(df_list)/2:] = 'B'"
   ]
  },
  {
   "cell_type": "code",
   "execution_count": 149,
   "id": "d83b3e68",
   "metadata": {},
   "outputs": [
    {
     "name": "stderr",
     "output_type": "stream",
     "text": [
      "/var/folders/rb/xr511ym54773mfmyy2h4lmfr0000gn/T/ipykernel_71894/477657105.py:5: SettingWithCopyWarning: \n",
      "A value is trying to be set on a copy of a slice from a DataFrame.\n",
      "Try using .loc[row_indexer,col_indexer] = value instead\n",
      "\n",
      "See the caveats in the documentation: https://pandas.pydata.org/pandas-docs/stable/user_guide/indexing.html#returning-a-view-versus-a-copy\n",
      "  group_A['bucket'] = group_A['user_id'].apply(\n",
      "/var/folders/rb/xr511ym54773mfmyy2h4lmfr0000gn/T/ipykernel_71894/477657105.py:8: SettingWithCopyWarning: \n",
      "A value is trying to be set on a copy of a slice from a DataFrame.\n",
      "Try using .loc[row_indexer,col_indexer] = value instead\n",
      "\n",
      "See the caveats in the documentation: https://pandas.pydata.org/pandas-docs/stable/user_guide/indexing.html#returning-a-view-versus-a-copy\n",
      "  group_B['bucket'] = group_B['user_id'].apply(\n"
     ]
    }
   ],
   "source": [
    "group_A = df_list[df_list['group'] == 'A']\n",
    "group_B = df_list[df_list['group'] == 'B']\n",
    "\n",
    "# Применение функции генерации бакетов к каждой группе\n",
    "group_A['bucket'] = group_A['user_id'].apply(\n",
    "    lambda x: int(hashlib.md5((str(x) + 'salt_A').encode()).hexdigest(), 16) % 250\n",
    ")\n",
    "group_B['bucket'] = group_B['user_id'].apply(\n",
    "    lambda x: int(hashlib.md5((str(x) + 'salt_B').encode()).hexdigest(), 16) % 250\n",
    ")\n",
    "\n",
    "# Объединение групп обратно в один DataFrame\n",
    "w = pd.concat([group_A, group_B])"
   ]
  },
  {
   "cell_type": "code",
   "execution_count": 154,
   "id": "d24ec0bc",
   "metadata": {},
   "outputs": [],
   "source": [
    "groupedw = w.groupby(['group', 'bucket']).agg({0:'mean'}).reset_index()"
   ]
  },
  {
   "cell_type": "code",
   "execution_count": 152,
   "id": "f3c54ecd",
   "metadata": {},
   "outputs": [
    {
     "data": {
      "text/plain": [
       "Ttest_indResult(statistic=0.0385607972170492, pvalue=0.9692405590890094)"
      ]
     },
     "execution_count": 152,
     "metadata": {},
     "output_type": "execute_result"
    }
   ],
   "source": [
    "stats.ttest_ind(group_A[0], group_B[0])"
   ]
  },
  {
   "cell_type": "code",
   "execution_count": 156,
   "id": "bef76613",
   "metadata": {},
   "outputs": [
    {
     "data": {
      "text/plain": [
       "Ttest_indResult(statistic=0.048276703567526294, pvalue=0.9615150753419535)"
      ]
     },
     "execution_count": 156,
     "metadata": {},
     "output_type": "execute_result"
    }
   ],
   "source": [
    "stats.ttest_ind(groupedw[groupedw .group == 'A'][0], \n",
    "                groupedw[groupedw .group == 'B'][0])"
   ]
  },
  {
   "cell_type": "markdown",
   "id": "43c96732",
   "metadata": {},
   "source": [
    "На рандомных данных не особо отличаются результаты"
   ]
  },
  {
   "cell_type": "code",
   "execution_count": 128,
   "id": "c72a1bb5",
   "metadata": {},
   "outputs": [
    {
     "name": "stderr",
     "output_type": "stream",
     "text": [
      "/var/folders/rb/xr511ym54773mfmyy2h4lmfr0000gn/T/ipykernel_71894/1177430899.py:5: SettingWithCopyWarning: \n",
      "A value is trying to be set on a copy of a slice from a DataFrame.\n",
      "Try using .loc[row_indexer,col_indexer] = value instead\n",
      "\n",
      "See the caveats in the documentation: https://pandas.pydata.org/pandas-docs/stable/user_guide/indexing.html#returning-a-view-versus-a-copy\n",
      "  group_A['bucket'] = group_A['user_id'].apply(\n",
      "/var/folders/rb/xr511ym54773mfmyy2h4lmfr0000gn/T/ipykernel_71894/1177430899.py:8: SettingWithCopyWarning: \n",
      "A value is trying to be set on a copy of a slice from a DataFrame.\n",
      "Try using .loc[row_indexer,col_indexer] = value instead\n",
      "\n",
      "See the caveats in the documentation: https://pandas.pydata.org/pandas-docs/stable/user_guide/indexing.html#returning-a-view-versus-a-copy\n",
      "  group_B['bucket'] = group_B['user_id'].apply(\n"
     ]
    }
   ],
   "source": [
    "group_A = shop_metrics_new[shop_metrics_new['group'] == 'A']\n",
    "group_B = shop_metrics_new[shop_metrics_new['group'] == 'B']\n",
    "\n",
    "# Применение функции генерации бакетов к каждой группе\n",
    "group_A['bucket'] = group_A['user_id'].apply(\n",
    "    lambda x: int(hashlib.md5((str(x) + 'salt_A').encode()).hexdigest(), 16) % 250\n",
    ")\n",
    "group_B['bucket'] = group_B['user_id'].apply(\n",
    "    lambda x: int(hashlib.md5((str(x) + 'salt_B').encode()).hexdigest(), 16) % 250\n",
    ")\n",
    "\n",
    "# Объединение групп обратно в один DataFrame\n",
    "show_metrcs_new_bucket = pd.concat([group_A, group_B])"
   ]
  },
  {
   "cell_type": "code",
   "execution_count": 129,
   "id": "5e37ceac",
   "metadata": {},
   "outputs": [
    {
     "data": {
      "text/html": [
       "<div>\n",
       "<style scoped>\n",
       "    .dataframe tbody tr th:only-of-type {\n",
       "        vertical-align: middle;\n",
       "    }\n",
       "\n",
       "    .dataframe tbody tr th {\n",
       "        vertical-align: top;\n",
       "    }\n",
       "\n",
       "    .dataframe thead th {\n",
       "        text-align: right;\n",
       "    }\n",
       "</style>\n",
       "<table border=\"1\" class=\"dataframe\">\n",
       "  <thead>\n",
       "    <tr style=\"text-align: right;\">\n",
       "      <th></th>\n",
       "      <th>user_id</th>\n",
       "      <th>group</th>\n",
       "      <th>is_viewed</th>\n",
       "      <th>products_viewed_cnt</th>\n",
       "      <th>price_sum</th>\n",
       "      <th>is_cart_added</th>\n",
       "      <th>is_purchased</th>\n",
       "      <th>cart_added_cnt</th>\n",
       "      <th>purchased_cnt</th>\n",
       "      <th>cart_added_cnt_ln</th>\n",
       "      <th>bucket</th>\n",
       "    </tr>\n",
       "  </thead>\n",
       "  <tbody>\n",
       "    <tr>\n",
       "      <th>0</th>\n",
       "      <td>1515915625353230683</td>\n",
       "      <td>A</td>\n",
       "      <td>1</td>\n",
       "      <td>1</td>\n",
       "      <td>339.79</td>\n",
       "      <td>0.0</td>\n",
       "      <td>0.0</td>\n",
       "      <td>0</td>\n",
       "      <td>0</td>\n",
       "      <td>0.0</td>\n",
       "      <td>131</td>\n",
       "    </tr>\n",
       "    <tr>\n",
       "      <th>1</th>\n",
       "      <td>1515915625353234047</td>\n",
       "      <td>A</td>\n",
       "      <td>1</td>\n",
       "      <td>9</td>\n",
       "      <td>861.86</td>\n",
       "      <td>0.0</td>\n",
       "      <td>0.0</td>\n",
       "      <td>0</td>\n",
       "      <td>0</td>\n",
       "      <td>0.0</td>\n",
       "      <td>0</td>\n",
       "    </tr>\n",
       "    <tr>\n",
       "      <th>2</th>\n",
       "      <td>1515915625353236157</td>\n",
       "      <td>A</td>\n",
       "      <td>1</td>\n",
       "      <td>4</td>\n",
       "      <td>179.60</td>\n",
       "      <td>0.0</td>\n",
       "      <td>0.0</td>\n",
       "      <td>0</td>\n",
       "      <td>0</td>\n",
       "      <td>0.0</td>\n",
       "      <td>216</td>\n",
       "    </tr>\n",
       "    <tr>\n",
       "      <th>5</th>\n",
       "      <td>1515915625353400724</td>\n",
       "      <td>A</td>\n",
       "      <td>1</td>\n",
       "      <td>2</td>\n",
       "      <td>103.33</td>\n",
       "      <td>0.0</td>\n",
       "      <td>0.0</td>\n",
       "      <td>0</td>\n",
       "      <td>0</td>\n",
       "      <td>0.0</td>\n",
       "      <td>6</td>\n",
       "    </tr>\n",
       "    <tr>\n",
       "      <th>7</th>\n",
       "      <td>1515915625353416040</td>\n",
       "      <td>A</td>\n",
       "      <td>1</td>\n",
       "      <td>13</td>\n",
       "      <td>1861.21</td>\n",
       "      <td>0.0</td>\n",
       "      <td>0.0</td>\n",
       "      <td>0</td>\n",
       "      <td>0</td>\n",
       "      <td>0.0</td>\n",
       "      <td>7</td>\n",
       "    </tr>\n",
       "    <tr>\n",
       "      <th>...</th>\n",
       "      <td>...</td>\n",
       "      <td>...</td>\n",
       "      <td>...</td>\n",
       "      <td>...</td>\n",
       "      <td>...</td>\n",
       "      <td>...</td>\n",
       "      <td>...</td>\n",
       "      <td>...</td>\n",
       "      <td>...</td>\n",
       "      <td>...</td>\n",
       "      <td>...</td>\n",
       "    </tr>\n",
       "    <tr>\n",
       "      <th>222516</th>\n",
       "      <td>1515915625611023671</td>\n",
       "      <td>B</td>\n",
       "      <td>1</td>\n",
       "      <td>1</td>\n",
       "      <td>32.22</td>\n",
       "      <td>0.0</td>\n",
       "      <td>0.0</td>\n",
       "      <td>0</td>\n",
       "      <td>0</td>\n",
       "      <td>0.0</td>\n",
       "      <td>180</td>\n",
       "    </tr>\n",
       "    <tr>\n",
       "      <th>222517</th>\n",
       "      <td>1515915625611023730</td>\n",
       "      <td>B</td>\n",
       "      <td>1</td>\n",
       "      <td>1</td>\n",
       "      <td>219.94</td>\n",
       "      <td>0.0</td>\n",
       "      <td>0.0</td>\n",
       "      <td>0</td>\n",
       "      <td>0</td>\n",
       "      <td>0.0</td>\n",
       "      <td>191</td>\n",
       "    </tr>\n",
       "    <tr>\n",
       "      <th>222518</th>\n",
       "      <td>1515915625611024014</td>\n",
       "      <td>B</td>\n",
       "      <td>1</td>\n",
       "      <td>1</td>\n",
       "      <td>80.03</td>\n",
       "      <td>0.0</td>\n",
       "      <td>0.0</td>\n",
       "      <td>0</td>\n",
       "      <td>0</td>\n",
       "      <td>0.0</td>\n",
       "      <td>174</td>\n",
       "    </tr>\n",
       "    <tr>\n",
       "      <th>222519</th>\n",
       "      <td>1515915625611024020</td>\n",
       "      <td>B</td>\n",
       "      <td>1</td>\n",
       "      <td>1</td>\n",
       "      <td>64.92</td>\n",
       "      <td>0.0</td>\n",
       "      <td>0.0</td>\n",
       "      <td>0</td>\n",
       "      <td>0</td>\n",
       "      <td>0.0</td>\n",
       "      <td>181</td>\n",
       "    </tr>\n",
       "    <tr>\n",
       "      <th>222520</th>\n",
       "      <td>1515915625611024030</td>\n",
       "      <td>B</td>\n",
       "      <td>1</td>\n",
       "      <td>1</td>\n",
       "      <td>10.16</td>\n",
       "      <td>0.0</td>\n",
       "      <td>0.0</td>\n",
       "      <td>0</td>\n",
       "      <td>0</td>\n",
       "      <td>0.0</td>\n",
       "      <td>182</td>\n",
       "    </tr>\n",
       "  </tbody>\n",
       "</table>\n",
       "<p>222521 rows × 11 columns</p>\n",
       "</div>"
      ],
      "text/plain": [
       "                    user_id group  is_viewed  products_viewed_cnt  price_sum  \\\n",
       "0       1515915625353230683     A          1                    1     339.79   \n",
       "1       1515915625353234047     A          1                    9     861.86   \n",
       "2       1515915625353236157     A          1                    4     179.60   \n",
       "5       1515915625353400724     A          1                    2     103.33   \n",
       "7       1515915625353416040     A          1                   13    1861.21   \n",
       "...                     ...   ...        ...                  ...        ...   \n",
       "222516  1515915625611023671     B          1                    1      32.22   \n",
       "222517  1515915625611023730     B          1                    1     219.94   \n",
       "222518  1515915625611024014     B          1                    1      80.03   \n",
       "222519  1515915625611024020     B          1                    1      64.92   \n",
       "222520  1515915625611024030     B          1                    1      10.16   \n",
       "\n",
       "        is_cart_added  is_purchased  cart_added_cnt  purchased_cnt  \\\n",
       "0                 0.0           0.0               0              0   \n",
       "1                 0.0           0.0               0              0   \n",
       "2                 0.0           0.0               0              0   \n",
       "5                 0.0           0.0               0              0   \n",
       "7                 0.0           0.0               0              0   \n",
       "...               ...           ...             ...            ...   \n",
       "222516            0.0           0.0               0              0   \n",
       "222517            0.0           0.0               0              0   \n",
       "222518            0.0           0.0               0              0   \n",
       "222519            0.0           0.0               0              0   \n",
       "222520            0.0           0.0               0              0   \n",
       "\n",
       "        cart_added_cnt_ln  bucket  \n",
       "0                     0.0     131  \n",
       "1                     0.0       0  \n",
       "2                     0.0     216  \n",
       "5                     0.0       6  \n",
       "7                     0.0       7  \n",
       "...                   ...     ...  \n",
       "222516                0.0     180  \n",
       "222517                0.0     191  \n",
       "222518                0.0     174  \n",
       "222519                0.0     181  \n",
       "222520                0.0     182  \n",
       "\n",
       "[222521 rows x 11 columns]"
      ]
     },
     "execution_count": 129,
     "metadata": {},
     "output_type": "execute_result"
    }
   ],
   "source": [
    "show_metrcs_new_bucket"
   ]
  },
  {
   "cell_type": "code",
   "execution_count": 130,
   "id": "88a52500",
   "metadata": {},
   "outputs": [
    {
     "data": {
      "text/plain": [
       "<AxesSubplot: >"
      ]
     },
     "execution_count": 130,
     "metadata": {},
     "output_type": "execute_result"
    },
    {
     "data": {
      "image/png": "[encoded data removed]",
      "text/plain": [
       "<Figure size 300x300 with 1 Axes>"
      ]
     },
     "metadata": {},
     "output_type": "display_data"
    }
   ],
   "source": [
    "grouped= show_metrcs_new_bucket.groupby(['group', 'bucket']).agg({'cart_added_cnt':'mean'}).reset_index()\n",
    "grouped['cart_added_cnt'].hist(bins=100, figsize=(3,3))"
   ]
  },
  {
   "cell_type": "code",
   "execution_count": 134,
   "id": "756f0f84",
   "metadata": {},
   "outputs": [
    {
     "data": {
      "text/plain": [
       "Ttest_indResult(statistic=-1.3047727178459143, pvalue=0.1919716009958315)"
      ]
     },
     "execution_count": 134,
     "metadata": {},
     "output_type": "execute_result"
    }
   ],
   "source": [
    "stats.ttest_ind(shop_metrics_new[shop_metrics_new.group == 'A']['cart_added_cnt'], \n",
    "                shop_metrics_new[shop_metrics_new.group == 'B']['cart_added_cnt'])"
   ]
  },
  {
   "cell_type": "code",
   "execution_count": 135,
   "id": "8ebed6ab",
   "metadata": {},
   "outputs": [
    {
     "data": {
      "text/plain": [
       "Ttest_indResult(statistic=-1.335495582158915, pvalue=0.18232426384983083)"
      ]
     },
     "execution_count": 135,
     "metadata": {},
     "output_type": "execute_result"
    }
   ],
   "source": [
    "stats.ttest_ind(grouped[grouped.group == 'A']['cart_added_cnt'], grouped[grouped.group == 'B']['cart_added_cnt'])"
   ]
  },
  {
   "cell_type": "markdown",
   "id": "342e4ea9",
   "metadata": {},
   "source": [
    "Получили довольно похожие результаты, но после объединения в бакеты распределение становится большим похоже на нормальное и мы в целом можем убрать такую ситуацию, что в выборках будут зависимые данные"
   ]
  },
  {
   "cell_type": "markdown",
   "id": "e221605b",
   "metadata": {},
   "source": [
    "#  4. Постстратификация"
   ]
  },
  {
   "cell_type": "code",
   "execution_count": 177,
   "id": "bc3d897b",
   "metadata": {},
   "outputs": [],
   "source": [
    "shop_w_features = pd.merge(shop_metrics_old, shop_users_info, on=['user_id'], how='left')"
   ]
  },
  {
   "cell_type": "code",
   "execution_count": 184,
   "id": "d22d4df7",
   "metadata": {},
   "outputs": [
    {
     "data": {
      "text/html": [
       "<div>\n",
       "<style scoped>\n",
       "    .dataframe tbody tr th:only-of-type {\n",
       "        vertical-align: middle;\n",
       "    }\n",
       "\n",
       "    .dataframe tbody tr th {\n",
       "        vertical-align: top;\n",
       "    }\n",
       "\n",
       "    .dataframe thead th {\n",
       "        text-align: right;\n",
       "    }\n",
       "</style>\n",
       "<table border=\"1\" class=\"dataframe\">\n",
       "  <thead>\n",
       "    <tr style=\"text-align: right;\">\n",
       "      <th></th>\n",
       "      <th>user_id</th>\n",
       "      <th>group</th>\n",
       "      <th>is_viewed</th>\n",
       "      <th>products_viewed_cnt</th>\n",
       "      <th>price_sum</th>\n",
       "      <th>is_cart_added</th>\n",
       "      <th>is_purchased</th>\n",
       "      <th>cart_added_cnt</th>\n",
       "      <th>purchased_cnt</th>\n",
       "      <th>cart_added_cnt_ln</th>\n",
       "      <th>user_age</th>\n",
       "      <th>user_sex</th>\n",
       "      <th>age_group</th>\n",
       "    </tr>\n",
       "  </thead>\n",
       "  <tbody>\n",
       "    <tr>\n",
       "      <th>0</th>\n",
       "      <td>1515915625353226922</td>\n",
       "      <td>B</td>\n",
       "      <td>1</td>\n",
       "      <td>1</td>\n",
       "      <td>76.48</td>\n",
       "      <td>0.0</td>\n",
       "      <td>0.0</td>\n",
       "      <td>0</td>\n",
       "      <td>0</td>\n",
       "      <td>0.0</td>\n",
       "      <td>55</td>\n",
       "      <td>f</td>\n",
       "      <td>46-60</td>\n",
       "    </tr>\n",
       "    <tr>\n",
       "      <th>1</th>\n",
       "      <td>1515915625353230067</td>\n",
       "      <td>A</td>\n",
       "      <td>1</td>\n",
       "      <td>1</td>\n",
       "      <td>28.98</td>\n",
       "      <td>0.0</td>\n",
       "      <td>0.0</td>\n",
       "      <td>0</td>\n",
       "      <td>0</td>\n",
       "      <td>0.0</td>\n",
       "      <td>58</td>\n",
       "      <td>m</td>\n",
       "      <td>46-60</td>\n",
       "    </tr>\n",
       "    <tr>\n",
       "      <th>2</th>\n",
       "      <td>1515915625353230683</td>\n",
       "      <td>A</td>\n",
       "      <td>1</td>\n",
       "      <td>10</td>\n",
       "      <td>592.21</td>\n",
       "      <td>0.0</td>\n",
       "      <td>0.0</td>\n",
       "      <td>0</td>\n",
       "      <td>0</td>\n",
       "      <td>0.0</td>\n",
       "      <td>23</td>\n",
       "      <td>f</td>\n",
       "      <td>18-24</td>\n",
       "    </tr>\n",
       "    <tr>\n",
       "      <th>3</th>\n",
       "      <td>1515915625353230922</td>\n",
       "      <td>A</td>\n",
       "      <td>1</td>\n",
       "      <td>1</td>\n",
       "      <td>274.40</td>\n",
       "      <td>0.0</td>\n",
       "      <td>0.0</td>\n",
       "      <td>0</td>\n",
       "      <td>0</td>\n",
       "      <td>0.0</td>\n",
       "      <td>33</td>\n",
       "      <td>m</td>\n",
       "      <td>25-45</td>\n",
       "    </tr>\n",
       "    <tr>\n",
       "      <th>4</th>\n",
       "      <td>1515915625353234047</td>\n",
       "      <td>A</td>\n",
       "      <td>1</td>\n",
       "      <td>14</td>\n",
       "      <td>1857.94</td>\n",
       "      <td>0.0</td>\n",
       "      <td>0.0</td>\n",
       "      <td>0</td>\n",
       "      <td>0</td>\n",
       "      <td>0.0</td>\n",
       "      <td>26</td>\n",
       "      <td>f</td>\n",
       "      <td>25-45</td>\n",
       "    </tr>\n",
       "    <tr>\n",
       "      <th>...</th>\n",
       "      <td>...</td>\n",
       "      <td>...</td>\n",
       "      <td>...</td>\n",
       "      <td>...</td>\n",
       "      <td>...</td>\n",
       "      <td>...</td>\n",
       "      <td>...</td>\n",
       "      <td>...</td>\n",
       "      <td>...</td>\n",
       "      <td>...</td>\n",
       "      <td>...</td>\n",
       "      <td>...</td>\n",
       "      <td>...</td>\n",
       "    </tr>\n",
       "    <tr>\n",
       "      <th>406858</th>\n",
       "      <td>1515915625611023671</td>\n",
       "      <td>B</td>\n",
       "      <td>1</td>\n",
       "      <td>1</td>\n",
       "      <td>32.22</td>\n",
       "      <td>0.0</td>\n",
       "      <td>0.0</td>\n",
       "      <td>0</td>\n",
       "      <td>0</td>\n",
       "      <td>0.0</td>\n",
       "      <td>76</td>\n",
       "      <td>m</td>\n",
       "      <td>76+</td>\n",
       "    </tr>\n",
       "    <tr>\n",
       "      <th>406859</th>\n",
       "      <td>1515915625611023730</td>\n",
       "      <td>B</td>\n",
       "      <td>1</td>\n",
       "      <td>1</td>\n",
       "      <td>219.94</td>\n",
       "      <td>0.0</td>\n",
       "      <td>0.0</td>\n",
       "      <td>0</td>\n",
       "      <td>0</td>\n",
       "      <td>0.0</td>\n",
       "      <td>34</td>\n",
       "      <td>m</td>\n",
       "      <td>25-45</td>\n",
       "    </tr>\n",
       "    <tr>\n",
       "      <th>406860</th>\n",
       "      <td>1515915625611024014</td>\n",
       "      <td>B</td>\n",
       "      <td>1</td>\n",
       "      <td>1</td>\n",
       "      <td>80.03</td>\n",
       "      <td>0.0</td>\n",
       "      <td>0.0</td>\n",
       "      <td>0</td>\n",
       "      <td>0</td>\n",
       "      <td>0.0</td>\n",
       "      <td>62</td>\n",
       "      <td>m</td>\n",
       "      <td>61-75</td>\n",
       "    </tr>\n",
       "    <tr>\n",
       "      <th>406861</th>\n",
       "      <td>1515915625611024020</td>\n",
       "      <td>B</td>\n",
       "      <td>1</td>\n",
       "      <td>1</td>\n",
       "      <td>64.92</td>\n",
       "      <td>0.0</td>\n",
       "      <td>0.0</td>\n",
       "      <td>0</td>\n",
       "      <td>0</td>\n",
       "      <td>0.0</td>\n",
       "      <td>48</td>\n",
       "      <td>f</td>\n",
       "      <td>46-60</td>\n",
       "    </tr>\n",
       "    <tr>\n",
       "      <th>406862</th>\n",
       "      <td>1515915625611024030</td>\n",
       "      <td>B</td>\n",
       "      <td>1</td>\n",
       "      <td>1</td>\n",
       "      <td>10.16</td>\n",
       "      <td>0.0</td>\n",
       "      <td>0.0</td>\n",
       "      <td>0</td>\n",
       "      <td>0</td>\n",
       "      <td>0.0</td>\n",
       "      <td>77</td>\n",
       "      <td>m</td>\n",
       "      <td>76+</td>\n",
       "    </tr>\n",
       "  </tbody>\n",
       "</table>\n",
       "<p>406863 rows × 13 columns</p>\n",
       "</div>"
      ],
      "text/plain": [
       "                    user_id group  is_viewed  products_viewed_cnt  price_sum  \\\n",
       "0       1515915625353226922     B          1                    1      76.48   \n",
       "1       1515915625353230067     A          1                    1      28.98   \n",
       "2       1515915625353230683     A          1                   10     592.21   \n",
       "3       1515915625353230922     A          1                    1     274.40   \n",
       "4       1515915625353234047     A          1                   14    1857.94   \n",
       "...                     ...   ...        ...                  ...        ...   \n",
       "406858  1515915625611023671     B          1                    1      32.22   \n",
       "406859  1515915625611023730     B          1                    1     219.94   \n",
       "406860  1515915625611024014     B          1                    1      80.03   \n",
       "406861  1515915625611024020     B          1                    1      64.92   \n",
       "406862  1515915625611024030     B          1                    1      10.16   \n",
       "\n",
       "        is_cart_added  is_purchased  cart_added_cnt  purchased_cnt  \\\n",
       "0                 0.0           0.0               0              0   \n",
       "1                 0.0           0.0               0              0   \n",
       "2                 0.0           0.0               0              0   \n",
       "3                 0.0           0.0               0              0   \n",
       "4                 0.0           0.0               0              0   \n",
       "...               ...           ...             ...            ...   \n",
       "406858            0.0           0.0               0              0   \n",
       "406859            0.0           0.0               0              0   \n",
       "406860            0.0           0.0               0              0   \n",
       "406861            0.0           0.0               0              0   \n",
       "406862            0.0           0.0               0              0   \n",
       "\n",
       "        cart_added_cnt_ln  user_age user_sex age_group  \n",
       "0                     0.0        55        f     46-60  \n",
       "1                     0.0        58        m     46-60  \n",
       "2                     0.0        23        f     18-24  \n",
       "3                     0.0        33        m     25-45  \n",
       "4                     0.0        26        f     25-45  \n",
       "...                   ...       ...      ...       ...  \n",
       "406858                0.0        76        m       76+  \n",
       "406859                0.0        34        m     25-45  \n",
       "406860                0.0        62        m     61-75  \n",
       "406861                0.0        48        f     46-60  \n",
       "406862                0.0        77        m       76+  \n",
       "\n",
       "[406863 rows x 13 columns]"
      ]
     },
     "execution_count": 184,
     "metadata": {},
     "output_type": "execute_result"
    }
   ],
   "source": [
    "shop_w_features "
   ]
  },
  {
   "cell_type": "code",
   "execution_count": 178,
   "id": "74875b91",
   "metadata": {},
   "outputs": [
    {
     "name": "stdout",
     "output_type": "stream",
     "text": [
      "Group A: mean = 2911.4223706747575, std = 0.14020671361557277, n = 203336\n",
      "Group B: mean = 2925.9647596364935, std = 0.14567425553734142, n = 203527\n"
     ]
    },
    {
     "data": {
      "text/plain": [
       "Ttest_indResult(statistic=-32440.777265730958, pvalue=0.0)"
      ]
     },
     "execution_count": 178,
     "metadata": {},
     "output_type": "execute_result"
    }
   ],
   "source": [
    "conditions = [\n",
    "    (shop_w_features['user_age'] >= 18) & (shop_w_features['user_age'] <= 24),\n",
    "    (shop_w_features['user_age'] >= 25) & (shop_w_features['user_age'] <= 45),\n",
    "    (shop_w_features['user_age'] >= 46) & (shop_w_features['user_age'] <= 60),\n",
    "    (shop_w_features['user_age'] >= 61) & (shop_w_features['user_age'] <= 75),\n",
    "    (shop_w_features['user_age'] >= 76)\n",
    "]\n",
    "choices = ['18-24', '25-45', '46-60', '61-75', '76+']\n",
    "shop_w_features['age_group'] = np.select(conditions, choices)\n",
    "\n",
    "# Расчет весов страт (пол + возраст)\n",
    "N = shop_w_features['user_id'].nunique()\n",
    "strats = shop_w_features.groupby(['user_sex', 'age_group']).size().reset_index(name='count')\n",
    "strats['weight'] = strats['count'] / N\n",
    "\n",
    "# Расчет взвешенных средних и стандартных отклонений для групп A и B\n",
    "def weighted_stats(group):\n",
    "    group_data = shop_w_features[shop_w_features['group'] == group]\n",
    "    stats = group_data.merge(strats, on=['user_sex', 'age_group'])\n",
    "    weighted_mean = sum(stats['cart_added_cnt'] * stats['weight'])\n",
    "    weighted_std = np.sqrt(sum((stats['cart_added_cnt'].std() ** 2) * stats['weight'] / N))\n",
    "    return weighted_mean, weighted_std, len(group_data)\n",
    "\n",
    "mean_a, std_a, n_a = weighted_stats('A')\n",
    "mean_b, std_b, n_b = weighted_stats('B')\n",
    "\n",
    "# Вывод результатов и t-тест\n",
    "print(f'Group A: mean = {mean_a}, std = {std_a}, n = {n_a}')\n",
    "print(f'Group B: mean = {mean_b}, std = {std_b}, n = {n_b}')\n",
    "\n",
    "# Выполнение t-теста\n",
    "stats.ttest_ind_from_stats(mean_a, std_a, n_a, mean_b, std_b, n_b)"
   ]
  },
  {
   "cell_type": "code",
   "execution_count": 179,
   "id": "c4d30605",
   "metadata": {},
   "outputs": [
    {
     "data": {
      "text/plain": [
       "(2911.4223706747575,\n",
       " 2925.9647596364935,\n",
       " 0.14020671361557277,\n",
       " 0.14567425553734142)"
      ]
     },
     "execution_count": 179,
     "metadata": {},
     "output_type": "execute_result"
    }
   ],
   "source": [
    "mean_a, mean_b, std_a, std_b, "
   ]
  },
  {
   "cell_type": "code",
   "execution_count": 180,
   "id": "b5b5c9bd",
   "metadata": {},
   "outputs": [
    {
     "name": "stdout",
     "output_type": "stream",
     "text": [
      "effect: 0.49949430588340055, std_a: 0.14020671361557277, std_b: 0.14567425553734142\n"
     ]
    }
   ],
   "source": [
    "print(f'effect: {(mean_b - mean_a)/mean_a*100}, std_a: {std_a}, std_b: {std_b}')"
   ]
  },
  {
   "cell_type": "code",
   "execution_count": 181,
   "id": "ff4e5580",
   "metadata": {},
   "outputs": [
    {
     "data": {
      "text/html": [
       "<div>\n",
       "<style scoped>\n",
       "    .dataframe tbody tr th:only-of-type {\n",
       "        vertical-align: middle;\n",
       "    }\n",
       "\n",
       "    .dataframe tbody tr th {\n",
       "        vertical-align: top;\n",
       "    }\n",
       "\n",
       "    .dataframe thead th {\n",
       "        text-align: right;\n",
       "    }\n",
       "</style>\n",
       "<table border=\"1\" class=\"dataframe\">\n",
       "  <thead>\n",
       "    <tr style=\"text-align: right;\">\n",
       "      <th></th>\n",
       "      <th>user_sex</th>\n",
       "      <th>age_group</th>\n",
       "      <th>count</th>\n",
       "      <th>weight</th>\n",
       "    </tr>\n",
       "  </thead>\n",
       "  <tbody>\n",
       "    <tr>\n",
       "      <th>0</th>\n",
       "      <td>f</td>\n",
       "      <td>18-24</td>\n",
       "      <td>16952</td>\n",
       "      <td>0.041665</td>\n",
       "    </tr>\n",
       "    <tr>\n",
       "      <th>1</th>\n",
       "      <td>f</td>\n",
       "      <td>25-45</td>\n",
       "      <td>50979</td>\n",
       "      <td>0.125298</td>\n",
       "    </tr>\n",
       "    <tr>\n",
       "      <th>2</th>\n",
       "      <td>f</td>\n",
       "      <td>46-60</td>\n",
       "      <td>36447</td>\n",
       "      <td>0.089581</td>\n",
       "    </tr>\n",
       "    <tr>\n",
       "      <th>3</th>\n",
       "      <td>f</td>\n",
       "      <td>61-75</td>\n",
       "      <td>36185</td>\n",
       "      <td>0.088937</td>\n",
       "    </tr>\n",
       "    <tr>\n",
       "      <th>4</th>\n",
       "      <td>f</td>\n",
       "      <td>76+</td>\n",
       "      <td>22207</td>\n",
       "      <td>0.054581</td>\n",
       "    </tr>\n",
       "    <tr>\n",
       "      <th>5</th>\n",
       "      <td>m</td>\n",
       "      <td>18-24</td>\n",
       "      <td>25706</td>\n",
       "      <td>0.063181</td>\n",
       "    </tr>\n",
       "    <tr>\n",
       "      <th>6</th>\n",
       "      <td>m</td>\n",
       "      <td>25-45</td>\n",
       "      <td>76922</td>\n",
       "      <td>0.189061</td>\n",
       "    </tr>\n",
       "    <tr>\n",
       "      <th>7</th>\n",
       "      <td>m</td>\n",
       "      <td>46-60</td>\n",
       "      <td>54604</td>\n",
       "      <td>0.134207</td>\n",
       "    </tr>\n",
       "    <tr>\n",
       "      <th>8</th>\n",
       "      <td>m</td>\n",
       "      <td>61-75</td>\n",
       "      <td>54250</td>\n",
       "      <td>0.133337</td>\n",
       "    </tr>\n",
       "    <tr>\n",
       "      <th>9</th>\n",
       "      <td>m</td>\n",
       "      <td>76+</td>\n",
       "      <td>32611</td>\n",
       "      <td>0.080152</td>\n",
       "    </tr>\n",
       "  </tbody>\n",
       "</table>\n",
       "</div>"
      ],
      "text/plain": [
       "  user_sex age_group  count    weight\n",
       "0        f     18-24  16952  0.041665\n",
       "1        f     25-45  50979  0.125298\n",
       "2        f     46-60  36447  0.089581\n",
       "3        f     61-75  36185  0.088937\n",
       "4        f       76+  22207  0.054581\n",
       "5        m     18-24  25706  0.063181\n",
       "6        m     25-45  76922  0.189061\n",
       "7        m     46-60  54604  0.134207\n",
       "8        m     61-75  54250  0.133337\n",
       "9        m       76+  32611  0.080152"
      ]
     },
     "execution_count": 181,
     "metadata": {},
     "output_type": "execute_result"
    }
   ],
   "source": [
    "strats"
   ]
  },
  {
   "cell_type": "code",
   "execution_count": 183,
   "id": "d6388292",
   "metadata": {},
   "outputs": [
    {
     "name": "stderr",
     "output_type": "stream",
     "text": [
      "100%|███████████████████████████████████████████████████████████████████████████████████| 100/100 [01:29<00:00,  1.12it/s]"
     ]
    },
    {
     "name": "stdout",
     "output_type": "stream",
     "text": [
      "Средние результаты: [ 2.91530577e+03  1.42814770e-01  2.03423620e+05  2.92208136e+03\n",
      "  1.42917702e-01  2.03439380e+05 -3.41043656e+05  0.00000000e+00]\n",
      "Стандартные отклонения результатов: [2.37357351e+01 5.31700273e-03 3.08821851e+02 2.37357351e+01\n",
      " 5.34394764e-03 3.08821851e+02 1.08544420e+05 0.00000000e+00]\n",
      "Мощность: 100.0%, Корректность: 100.0%\n"
     ]
    },
    {
     "name": "stderr",
     "output_type": "stream",
     "text": [
      "\n"
     ]
    }
   ],
   "source": [
    "n_iterations = 100 \n",
    "results = [] \n",
    "correctness = [] \n",
    "power = []\n",
    "\n",
    "for _ in tqdm(range(n_iterations)):\n",
    "    new_groups = groups_splitter(shop_w_features.copy(), user_salt=salt_generator())\n",
    "    merged_df = pd.merge(shop_w_features, new_groups, how='left', on='user_id')\n",
    "\n",
    "    N = merged_df['user_id'].nunique()\n",
    "    strats = merged_df.groupby(['user_sex', 'age_group']).size().reset_index(name='count')\n",
    "    strats['weight'] = strats['count'] / N\n",
    "\n",
    "    def weighted_stats(group):\n",
    "        group_data = merged_df[merged_df['group_y'] == group]\n",
    "        stats = group_data.merge(strats, on=['user_sex', 'age_group'])\n",
    "        weighted_mean = sum(stats['cart_added_cnt'] * stats['weight'])\n",
    "        weighted_std = np.sqrt(sum((stats['cart_added_cnt'].std() ** 2) * stats['weight'] / N))\n",
    "        return weighted_mean, weighted_std, len(group_data)\n",
    "\n",
    "    mean_a, std_a, n_a = weighted_stats('A')\n",
    "    mean_b, std_b, n_b = weighted_stats('B')\n",
    "\n",
    "    t_statistic, p_value_cor = stats.ttest_ind_from_stats(mean_a, std_a, n_a, mean_b, std_b, n_b)\n",
    "    correctness.append(p_value_cor)\n",
    "\n",
    "    mean_b_effect = mean_b * 1.05\n",
    "    t_statistic, p_value_power = stats.ttest_ind_from_stats(mean_a, std_a, n_a, mean_b_effect, std_b, n_b)\n",
    "    power.append(p_value_power)\n",
    "\n",
    "    results.append([mean_a, std_a, n_a, mean_b, std_b, n_b, t_statistic, p_value_cor])\n",
    "power = (len([p for p in power if p < 0.05]) / n_iterations) * 100\n",
    "correctness = (len([p for p in correctness if p < 0.05]) / n_iterations) * 100\n",
    "\n",
    "\n",
    "mean_results = np.mean(results, axis=0)\n",
    "std_results = np.std(results, axis=0)\n",
    "\n",
    "print(f'Средние результаты: {mean_results}')\n",
    "print(f'Стандартные отклонения результатов: {std_results}')\n",
    "print(f'Мощность: {power}%, Корректность: {correctness}%')"
   ]
  }
 ],
 "metadata": {
  "kernelspec": {
   "display_name": "Python 3 (ipykernel)",
   "language": "python",
   "name": "python3"
  },
  "language_info": {
   "codemirror_mode": {
    "name": "ipython",
    "version": 3
   },
   "file_extension": ".py",
   "mimetype": "text/x-python",
   "name": "python",
   "nbconvert_exporter": "python",
   "pygments_lexer": "ipython3",
   "version": "3.8.10"
  }
 },
 "nbformat": 4,
 "nbformat_minor": 5
}
